{
 "cells": [
  {
   "cell_type": "code",
   "execution_count": 1,
   "id": "bc0984ae",
   "metadata": {},
   "outputs": [],
   "source": [
    "import sympy as sy"
   ]
  },
  {
   "cell_type": "code",
   "execution_count": 2,
   "id": "b1cb3b32",
   "metadata": {},
   "outputs": [],
   "source": [
    "x,h = sy.symbols('x,h')"
   ]
  },
  {
   "cell_type": "code",
   "execution_count": 3,
   "id": "5ae128aa",
   "metadata": {},
   "outputs": [
    {
     "data": {
      "text/latex": [
       "$\\displaystyle \\frac{7 h}{3}$"
      ],
      "text/plain": [
       "7*h/3"
      ]
     },
     "execution_count": 3,
     "metadata": {},
     "output_type": "execute_result"
    }
   ],
   "source": [
    "sy.integrate((2-x/h)**2,(x,0,h))"
   ]
  },
  {
   "cell_type": "code",
   "execution_count": null,
   "id": "fb0d9365",
   "metadata": {},
   "outputs": [],
   "source": []
  }
 ],
 "metadata": {
  "kernelspec": {
   "display_name": "Python 3 (ipykernel)",
   "language": "python",
   "name": "python3"
  },
  "language_info": {
   "codemirror_mode": {
    "name": "ipython",
    "version": 3
   },
   "file_extension": ".py",
   "mimetype": "text/x-python",
   "name": "python",
   "nbconvert_exporter": "python",
   "pygments_lexer": "ipython3",
   "version": "3.8.11"
  }
 },
 "nbformat": 4,
 "nbformat_minor": 5
}
