{
 "cells": [
  {
   "cell_type": "code",
   "execution_count": 1,
   "id": "0fd67ecb",
   "metadata": {},
   "outputs": [],
   "source": [
    "import sympy as sy"
   ]
  },
  {
   "cell_type": "code",
   "execution_count": 2,
   "id": "e3629494",
   "metadata": {},
   "outputs": [],
   "source": [
    "Dc,Dt,r,D1=sy.symbols('D_c,D_t,r,D_1')\n",
    "F,rho,Vj,theta=sy.symbols('F,rho,V_j,\\\\varphi')\n"
   ]
  },
  {
   "cell_type": "code",
   "execution_count": 15,
   "id": "a8a6c570",
   "metadata": {},
   "outputs": [
    {
     "data": {
      "text/latex": [
       "$\\displaystyle \\frac{D_{c}^{3}}{48} - \\frac{D_{c} D_{t}^{2}}{16} + \\frac{D_{t}^{3}}{24}$"
      ],
      "text/plain": [
       "D_c**3/48 - D_c*D_t**2/16 + D_t**3/24"
      ]
     },
     "execution_count": 15,
     "metadata": {},
     "output_type": "execute_result"
    }
   ],
   "source": [
    "#int1=sy.integrate((r-Dc/2)*r,(r,Dc/2,Dt/2))\n",
    "int1=(r-Dc/2)*r\n",
    "int1=sy.integrate(int1,(r,Dc/2,Dt/2))\n",
    "int1"
   ]
  },
  {
   "cell_type": "code",
   "execution_count": null,
   "id": "c7ce9a0c",
   "metadata": {},
   "outputs": [],
   "source": [
    "exp1 =sy.simplify( int1*4/(Dt-Dc)*(sy.cos(theta))**2 - D1**2/4)\n",
    "exp1"
   ]
  },
  {
   "cell_type": "code",
   "execution_count": null,
   "id": "302ca289",
   "metadata": {},
   "outputs": [],
   "source": [
    "sol=sy.solve(exp1,Dt)\n",
    "sy.simplify(sol[0])\n",
    "#sy.simplify(sol[0].subs(D1,0.025).subs(Dc,0.25))"
   ]
  },
  {
   "cell_type": "code",
   "execution_count": 11,
   "id": "e806c5d6",
   "metadata": {},
   "outputs": [
    {
     "data": {
      "text/latex": [
       "$\\displaystyle 0.254935053979258$"
      ],
      "text/plain": [
       "0.254935053979258"
      ]
     },
     "execution_count": 11,
     "metadata": {},
     "output_type": "execute_result"
    }
   ],
   "source": [
    "solDt=sy.simplify(sol[1])\n",
    "solDt\n",
    "solDt.evalf(subs={D1:0.025}).evalf(subs={Dc:0.25}).evalf(subs={theta:sy.pi/3})"
   ]
  },
  {
   "cell_type": "code",
   "execution_count": null,
   "id": "3540b403",
   "metadata": {},
   "outputs": [],
   "source": []
  },
  {
   "cell_type": "code",
   "execution_count": 28,
   "id": "183ac54c",
   "metadata": {},
   "outputs": [
    {
     "data": {
      "text/latex": [
       "$\\displaystyle 524.448917022934$"
      ],
      "text/plain": [
       "524.448917022934"
      ]
     },
     "execution_count": 28,
     "metadata": {},
     "output_type": "execute_result"
    }
   ],
   "source": [
    "int2 = 2*sy.pi*sy.integrate((r-Dc/2)**2*r,(r,Dc/2,Dt/2))\n",
    "int2 = int2*(2*Vj/(Dt-Dc))**2*rho*sy.cos(theta)\n",
    "int2=sy.simplify(int2.subs(Dt,solDt))\n",
    "int2.evalf(subs={Dc:0.25}).evalf(subs={D1:0.025}).evalf(subs={theta:sy.pi/3}).evalf(subs={Vj:40}).evalf(subs={rho:1000})\n"
   ]
  },
  {
   "cell_type": "code",
   "execution_count": 27,
   "id": "da929474",
   "metadata": {},
   "outputs": [
    {
     "data": {
      "text/latex": [
       "$\\displaystyle 785.398163397448$"
      ],
      "text/plain": [
       "785.398163397448"
      ]
     },
     "execution_count": 27,
     "metadata": {},
     "output_type": "execute_result"
    }
   ],
   "source": [
    "mom1 = sy.pi*D1**2/4*Vj**2*rho\n",
    "mom1.evalf(subs={Dc:0.25}).evalf(subs={D1:0.025}).evalf(subs={theta:sy.pi/3}).evalf(subs={Vj:40}).evalf(subs={rho:1000})\n",
    "        "
   ]
  },
  {
   "cell_type": "code",
   "execution_count": 29,
   "id": "ba722389",
   "metadata": {},
   "outputs": [
    {
     "data": {
      "text/latex": [
       "$\\displaystyle 260.949246374514$"
      ],
      "text/plain": [
       "260.949246374514"
      ]
     },
     "execution_count": 29,
     "metadata": {},
     "output_type": "execute_result"
    }
   ],
   "source": [
    "F=mom1-int2\n",
    "F.evalf(subs={Dc:0.25}).evalf(subs={D1:0.025}).evalf(subs={theta:sy.pi/3}).evalf(subs={Vj:40}).evalf(subs={rho:1000})\n",
    "        "
   ]
  },
  {
   "cell_type": "code",
   "execution_count": null,
   "id": "22af6a8b",
   "metadata": {},
   "outputs": [],
   "source": []
  }
 ],
 "metadata": {
  "kernelspec": {
   "display_name": "Python 3 (ipykernel)",
   "language": "python",
   "name": "python3"
  },
  "language_info": {
   "codemirror_mode": {
    "name": "ipython",
    "version": 3
   },
   "file_extension": ".py",
   "mimetype": "text/x-python",
   "name": "python",
   "nbconvert_exporter": "python",
   "pygments_lexer": "ipython3",
   "version": "3.8.8"
  }
 },
 "nbformat": 4,
 "nbformat_minor": 5
}
