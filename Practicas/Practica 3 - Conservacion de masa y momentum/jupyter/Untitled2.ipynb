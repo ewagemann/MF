{
 "cells": [
  {
   "cell_type": "code",
   "execution_count": 1,
   "id": "0fd67ecb",
   "metadata": {},
   "outputs": [],
   "source": [
    "import sympy as sy"
   ]
  },
  {
   "cell_type": "code",
   "execution_count": 2,
   "id": "e3629494",
   "metadata": {},
   "outputs": [],
   "source": [
    "Dc,Dt,r,D1=sy.symbols('D_c,D_t,r,D_1')\n",
    "F,rho,Vj,theta=sy.symbols('F,rho,V_j,\\\\varphi')\n"
   ]
  },
  {
   "cell_type": "code",
   "execution_count": 3,
   "id": "a8a6c570",
   "metadata": {},
   "outputs": [
    {
     "data": {
      "text/latex": [
       "$\\displaystyle \\frac{D_{c}^{3}}{48} - \\frac{D_{c} D_{t}^{2}}{16} + \\frac{D_{t}^{3}}{24}$"
      ],
      "text/plain": [
       "D_c**3/48 - D_c*D_t**2/16 + D_t**3/24"
      ]
     },
     "execution_count": 3,
     "metadata": {},
     "output_type": "execute_result"
    }
   ],
   "source": [
    "#int1=sy.integrate((r-Dc/2)*r,(r,Dc/2,Dt/2))\n",
    "int1=(r-Dc/2)*r\n",
    "int1=sy.integrate(int1,(r,Dc/2,Dt/2))\n",
    "int1"
   ]
  },
  {
   "cell_type": "code",
   "execution_count": 10,
   "id": "c7ce9a0c",
   "metadata": {},
   "outputs": [
    {
     "data": {
      "text/latex": [
       "$\\displaystyle - \\frac{D_{1}^{2}}{4} - \\frac{D_{c}^{2} \\cos{\\left(\\varphi \\right)}}{12} - \\frac{D_{c} D_{t} \\cos{\\left(\\varphi \\right)}}{12} + \\frac{D_{t}^{2} \\cos{\\left(\\varphi \\right)}}{6}$"
      ],
      "text/plain": [
       "-D_1**2/4 - D_c**2*cos(\\varphi)/12 - D_c*D_t*cos(\\varphi)/12 + D_t**2*cos(\\varphi)/6"
      ]
     },
     "execution_count": 10,
     "metadata": {},
     "output_type": "execute_result"
    }
   ],
   "source": [
    "exp1 =sy.simplify( int1*4/(Dt-Dc)*(sy.cos(theta)) - D1**2/4)\n",
    "exp1"
   ]
  },
  {
   "cell_type": "code",
   "execution_count": 11,
   "id": "302ca289",
   "metadata": {},
   "outputs": [
    {
     "data": {
      "text/latex": [
       "$\\displaystyle \\frac{D_{c}}{4} - \\frac{\\sqrt{3} \\sqrt{\\left(8 D_{1}^{2} + 3 D_{c}^{2} \\cos{\\left(\\varphi \\right)}\\right) \\cos{\\left(\\varphi \\right)}}}{4 \\cos{\\left(\\varphi \\right)}}$"
      ],
      "text/plain": [
       "D_c/4 - sqrt(3)*sqrt((8*D_1**2 + 3*D_c**2*cos(\\varphi))*cos(\\varphi))/(4*cos(\\varphi))"
      ]
     },
     "execution_count": 11,
     "metadata": {},
     "output_type": "execute_result"
    }
   ],
   "source": [
    "sol=sy.solve(exp1,Dt)\n",
    "sy.simplify(sol[0])\n",
    "#sy.simplify(sol[0].subs(D1,0.025).subs(Dc,0.25))"
   ]
  },
  {
   "cell_type": "code",
   "execution_count": 6,
   "id": "e806c5d6",
   "metadata": {},
   "outputs": [
    {
     "data": {
      "text/latex": [
       "$\\displaystyle 0.259746672975744$"
      ],
      "text/plain": [
       "0.259746672975744"
      ]
     },
     "execution_count": 6,
     "metadata": {},
     "output_type": "execute_result"
    }
   ],
   "source": [
    "solDt=sy.simplify(sol[1])\n",
    "solDt\n",
    "solDt.evalf(subs={D1:0.025}).evalf(subs={Dc:0.25}).evalf(subs={theta:sy.pi/3})"
   ]
  },
  {
   "cell_type": "code",
   "execution_count": null,
   "id": "3540b403",
   "metadata": {},
   "outputs": [],
   "source": []
  },
  {
   "cell_type": "code",
   "execution_count": 15,
   "id": "183ac54c",
   "metadata": {},
   "outputs": [
    {
     "data": {
      "text/latex": [
       "$\\displaystyle 525.256797094995$"
      ],
      "text/plain": [
       "525.256797094995"
      ]
     },
     "execution_count": 15,
     "metadata": {},
     "output_type": "execute_result"
    }
   ],
   "source": [
    "int2 = 2*sy.pi*sy.integrate((r-Dc/2)**2*r,(r,Dc/2,Dt/2))\n",
    "int2 = int2*(2*Vj/(Dt-Dc))**2*rho*sy.cos(theta)**2\n",
    "int2=sy.simplify(int2.subs(Dt,solDt))\n",
    "int2.evalf(subs={Dc:0.25}).evalf(subs={D1:0.025}).evalf(subs={theta:sy.pi/3}).evalf(subs={Vj:40}).evalf(subs={rho:1000})\n"
   ]
  },
  {
   "cell_type": "code",
   "execution_count": 16,
   "id": "da929474",
   "metadata": {},
   "outputs": [
    {
     "data": {
      "text/latex": [
       "$\\displaystyle 785.398163397448$"
      ],
      "text/plain": [
       "785.398163397448"
      ]
     },
     "execution_count": 16,
     "metadata": {},
     "output_type": "execute_result"
    }
   ],
   "source": [
    "mom1 = sy.pi*D1**2/4*Vj**2*rho\n",
    "mom1.evalf(subs={Dc:0.25}).evalf(subs={D1:0.025}).evalf(subs={theta:sy.pi/3}).evalf(subs={Vj:40}).evalf(subs={rho:1000})\n",
    "        "
   ]
  },
  {
   "cell_type": "code",
   "execution_count": 17,
   "id": "ba722389",
   "metadata": {},
   "outputs": [
    {
     "data": {
      "text/latex": [
       "$\\displaystyle 260.141366302453$"
      ],
      "text/plain": [
       "260.141366302453"
      ]
     },
     "execution_count": 17,
     "metadata": {},
     "output_type": "execute_result"
    }
   ],
   "source": [
    "F=mom1-int2\n",
    "F.evalf(subs={Dc:0.25}).evalf(subs={D1:0.025}).evalf(subs={theta:sy.pi/3}).evalf(subs={Vj:40}).evalf(subs={rho:1000})\n",
    "        "
   ]
  },
  {
   "cell_type": "code",
   "execution_count": null,
   "id": "22af6a8b",
   "metadata": {},
   "outputs": [],
   "source": []
  }
 ],
 "metadata": {
  "kernelspec": {
   "display_name": "Python 3 (ipykernel)",
   "language": "python",
   "name": "python3"
  },
  "language_info": {
   "codemirror_mode": {
    "name": "ipython",
    "version": 3
   },
   "file_extension": ".py",
   "mimetype": "text/x-python",
   "name": "python",
   "nbconvert_exporter": "python",
   "pygments_lexer": "ipython3",
   "version": "3.8.11"
  }
 },
 "nbformat": 4,
 "nbformat_minor": 5
}
