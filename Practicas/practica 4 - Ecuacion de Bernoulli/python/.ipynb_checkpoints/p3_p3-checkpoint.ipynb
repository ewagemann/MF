{
 "cells": [
  {
   "cell_type": "code",
   "execution_count": 1,
   "metadata": {},
   "outputs": [],
   "source": [
    "import numpy as np"
   ]
  },
  {
   "cell_type": "code",
   "execution_count": 8,
   "metadata": {},
   "outputs": [],
   "source": [
    "gamma = 9.81 # kPa/m\n",
    "g = 9.81 #m/s2\n",
    "Dc = 50 * 10**-3 #m\n",
    "Ac = np.pi*Dc**2/4 # m2\n",
    "Da = 150 * 10**-3 #m\n",
    "Aa = np.pi*Da**2/4\n",
    "zc = 0\n",
    "zb = 2.4+3.6 #m\n",
    "\n",
    "vc   = 2*g*(zb-zc)\n",
    "vc **= 0.5 # m/s\n",
    "\n",
    "Q = vc * Ac # m3/s\n",
    "\n",
    "pa = gamma/(2*g)*(vc**2 - (vc * (Dc/Da)**2)**2)"
   ]
  },
  {
   "cell_type": "code",
   "execution_count": 9,
   "metadata": {},
   "outputs": [
    {
     "name": "stdout",
     "output_type": "stream",
     "text": [
      "10.849884792015075 0.021303698971806364\n",
      "58.13333333333334\n"
     ]
    }
   ],
   "source": [
    "print(vc,Q)\n",
    "print(pa)"
   ]
  },
  {
   "cell_type": "code",
   "execution_count": null,
   "metadata": {},
   "outputs": [],
   "source": []
  }
 ],
 "metadata": {
  "kernelspec": {
   "display_name": "Python 3",
   "language": "python",
   "name": "python3"
  },
  "language_info": {
   "codemirror_mode": {
    "name": "ipython",
    "version": 3
   },
   "file_extension": ".py",
   "mimetype": "text/x-python",
   "name": "python",
   "nbconvert_exporter": "python",
   "pygments_lexer": "ipython3",
   "version": "3.7.6"
  }
 },
 "nbformat": 4,
 "nbformat_minor": 4
}
