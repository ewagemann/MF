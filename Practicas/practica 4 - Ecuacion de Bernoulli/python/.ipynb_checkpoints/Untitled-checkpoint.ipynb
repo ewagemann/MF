{
 "cells": [
  {
   "cell_type": "code",
   "execution_count": 1,
   "metadata": {},
   "outputs": [],
   "source": [
    "import numpy as np"
   ]
  },
  {
   "cell_type": "code",
   "execution_count": null,
   "metadata": {},
   "outputs": [],
   "source": [
    "pa = 66.2 # kPa\n",
    "gamma = 9.81 # kPa/m3\n",
    "Q = 0.37 # m3/s\n",
    "g = 9.81\n",
    "\n",
    "Da = 300*10**-3 # m\n",
    "Aa = np.pi*Da**2/4\n",
    "Db = 600 *10**-3 # m\n",
    "Ab = np.pi*Db**2/4\n",
    "za = 0\n",
    "zb = 4.5 #m\n",
    "\n",
    "pb  = za-zb\n",
    "pb += 1/(2*g)"
   ]
  }
 ],
 "metadata": {
  "kernelspec": {
   "display_name": "Python 3",
   "language": "python",
   "name": "python3"
  },
  "language_info": {
   "codemirror_mode": {
    "name": "ipython",
    "version": 3
   },
   "file_extension": ".py",
   "mimetype": "text/x-python",
   "name": "python",
   "nbconvert_exporter": "python",
   "pygments_lexer": "ipython3",
   "version": "3.7.6"
  }
 },
 "nbformat": 4,
 "nbformat_minor": 4
}
