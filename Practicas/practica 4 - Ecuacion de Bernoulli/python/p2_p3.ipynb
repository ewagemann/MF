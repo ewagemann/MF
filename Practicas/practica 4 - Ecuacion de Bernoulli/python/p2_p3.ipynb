{
 "cells": [
  {
   "cell_type": "code",
   "execution_count": 1,
   "metadata": {},
   "outputs": [],
   "source": [
    "import numpy as np"
   ]
  },
  {
   "cell_type": "code",
   "execution_count": 7,
   "metadata": {},
   "outputs": [],
   "source": [
    "pa=565\n",
    "g=9.81 #m/s2\n",
    "gamma=9.81 # kPa/m\n",
    "\n",
    "Da=70*10**-3 #m\n",
    "Aa=np.pi*Da**2/4 #m2\n",
    "\n",
    "Db=35*10**-3 #m\n",
    "Ab=np.pi*Db**2/4\n",
    "\n",
    "za=0\n",
    "zb=3.65 # m\n",
    "\n",
    "Q   = 2*g*(1/Aa**2-1/Ab**2)**-1\n",
    "Q  *= (zb-za - pa/gamma)\n",
    "Q **= 0.5"
   ]
  },
  {
   "cell_type": "code",
   "execution_count": 8,
   "metadata": {},
   "outputs": [
    {
     "name": "stdout",
     "output_type": "stream",
     "text": [
      "0.003848451000647497 0.0009621127501618742\n",
      "0.03232678987362693\n"
     ]
    }
   ],
   "source": [
    "print(Aa,Ab)\n",
    "print(Q)"
   ]
  },
  {
   "cell_type": "code",
   "execution_count": null,
   "metadata": {},
   "outputs": [],
   "source": []
  }
 ],
 "metadata": {
  "kernelspec": {
   "display_name": "Python 3",
   "language": "python",
   "name": "python3"
  },
  "language_info": {
   "codemirror_mode": {
    "name": "ipython",
    "version": 3
   },
   "file_extension": ".py",
   "mimetype": "text/x-python",
   "name": "python",
   "nbconvert_exporter": "python",
   "pygments_lexer": "ipython3",
   "version": "3.7.6"
  }
 },
 "nbformat": 4,
 "nbformat_minor": 4
}
