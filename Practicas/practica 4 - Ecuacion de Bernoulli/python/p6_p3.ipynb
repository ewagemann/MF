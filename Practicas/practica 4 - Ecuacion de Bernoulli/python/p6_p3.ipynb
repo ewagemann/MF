{
 "cells": [
  {
   "cell_type": "code",
   "execution_count": 1,
   "metadata": {},
   "outputs": [],
   "source": [
    "import numpy as np"
   ]
  },
  {
   "cell_type": "code",
   "execution_count": 11,
   "metadata": {},
   "outputs": [
    {
     "name": "stdout",
     "output_type": "stream",
     "text": [
      "(pa-pb)/gamma =  -0.5833333333333331  m\n",
      "Q =  0.00013021978170443523  m3/s\n"
     ]
    }
   ],
   "source": [
    "gammao=9.81*0.9 # kPa/m\n",
    "gammam=9.81*1.4 # kPa/m\n",
    "g=9.81 # m/s2\n",
    "\n",
    "Da=200*10**-3 #m\n",
    "Aa=np.pi*Da**2/4\n",
    "Db=75*10**-3 #m\n",
    "Ab=np.pi*Db**2/4\n",
    "\n",
    "zb_za=0.25 #m\n",
    "zc_zd=0.6 #m\n",
    "\n",
    "pa_pb_gammao = (zc_zd) - gammam/gammao*(zc_zd) - zb_za\n",
    "print('(pa-pb)/gamma = ',pa_pb_gammao, ' m')\n",
    "\n",
    "Q   = 2*g\n",
    "Q  *= (1/Aa**2-1/Ab**2)**-1\n",
    "Q  *= (pa_pb_gammao + zb_za)\n",
    "Q **= 0.5\n",
    "\n",
    "print('Q = ',Q, ' m3/s')"
   ]
  },
  {
   "cell_type": "code",
   "execution_count": null,
   "metadata": {},
   "outputs": [],
   "source": []
  }
 ],
 "metadata": {
  "kernelspec": {
   "display_name": "Python 3",
   "language": "python",
   "name": "python3"
  },
  "language_info": {
   "codemirror_mode": {
    "name": "ipython",
    "version": 3
   },
   "file_extension": ".py",
   "mimetype": "text/x-python",
   "name": "python",
   "nbconvert_exporter": "python",
   "pygments_lexer": "ipython3",
   "version": "3.7.6"
  }
 },
 "nbformat": 4,
 "nbformat_minor": 4
}
