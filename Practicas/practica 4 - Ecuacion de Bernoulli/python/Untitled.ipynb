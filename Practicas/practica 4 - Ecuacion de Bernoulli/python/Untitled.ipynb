{
 "cells": [
  {
   "cell_type": "code",
   "execution_count": 1,
   "metadata": {},
   "outputs": [],
   "source": [
    "import numpy as np"
   ]
  },
  {
   "cell_type": "code",
   "execution_count": 11,
   "metadata": {},
   "outputs": [
    {
     "name": "stdout",
     "output_type": "stream",
     "text": [
      "pa_pb_gamma= 3.13 m\n",
      "Q=3.98e-03 m^3/s\n"
     ]
    }
   ],
   "source": [
    "Da=50*10**-3 # m\n",
    "Aa=np.pi*Da**2/4 # m2\n",
    "Db=25*10**-3 # m\n",
    "Ab=np.pi*Db**2/4 #m2\n",
    "h=250*10**-3 # m\n",
    "\n",
    "g=9.81\n",
    "gammaw=9.81 # kPa/m\n",
    "SGhg=13.54 \n",
    "\n",
    "pa_pb_gamma=h*(SGhg-1)\n",
    "print('pa_pb_gamma= %4.2f m'%pa_pb_gamma)\n",
    "\n",
    "Q=np.sqrt(2*g*pa_pb_gamma*(1/Ab**2-1/Aa**2)**-1)\n",
    "print(r'Q=%4.2e m^3/s'%Q)\n"
   ]
  },
  {
   "cell_type": "code",
   "execution_count": 15,
   "metadata": {},
   "outputs": [
    {
     "name": "stdout",
     "output_type": "stream",
     "text": [
      "Q=4.91e-03 m^3/s\n",
      "pa_pb_gamma= 4.78 m\n",
      "h=3.81e-01 m\n"
     ]
    }
   ],
   "source": [
    "vb=10 # m/s\n",
    "Q=vb*Ab #m3/s\n",
    "print(r'Q=%4.2e m^3/s'%Q)\n",
    "pa_pb_gamma=1/(2*g)*Q**2*(1/Ab**2-1/Aa**2)\n",
    "print('pa_pb_gamma= %4.2f m'%pa_pb_gamma)\n",
    "h=pa_pb_gamma/(SGhg-1)\n",
    "print(r'h=%4.2e m'%h)"
   ]
  },
  {
   "cell_type": "code",
   "execution_count": null,
   "metadata": {},
   "outputs": [],
   "source": []
  }
 ],
 "metadata": {
  "kernelspec": {
   "display_name": "Python 3",
   "language": "python",
   "name": "python3"
  },
  "language_info": {
   "codemirror_mode": {
    "name": "ipython",
    "version": 3
   },
   "file_extension": ".py",
   "mimetype": "text/x-python",
   "name": "python",
   "nbconvert_exporter": "python",
   "pygments_lexer": "ipython3",
   "version": "3.8.5"
  }
 },
 "nbformat": 4,
 "nbformat_minor": 4
}
