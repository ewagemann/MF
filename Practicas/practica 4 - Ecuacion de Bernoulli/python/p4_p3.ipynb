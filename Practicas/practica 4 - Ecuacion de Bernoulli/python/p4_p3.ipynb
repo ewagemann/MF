{
 "cells": [
  {
   "cell_type": "code",
   "execution_count": 15,
   "metadata": {},
   "outputs": [
    {
     "name": "stdout",
     "output_type": "stream",
     "text": [
      "ve= 3.1016124838541645\n",
      "Q= 0.0015225004677435368\n",
      "va= 0.7754031209635411\n",
      "pa= -0.30062500000000003\n",
      "pb= -29.730625\n",
      "pc= -0.30062500000000003\n",
      "pd= 97.79937500000001\n"
     ]
    }
   ],
   "source": [
    "import numpy as np\n",
    "\n",
    "g=9.81 # m/s2\n",
    "gamma=9.81 #kPa/m\n",
    "\n",
    "za=10 #\n",
    "zb=10+3 #m\n",
    "zc=10 #m\n",
    "zd=0 #m\n",
    "ze=0 #m\n",
    "zf=10 #m\n",
    "\n",
    "Di=50*10**-3 #m\n",
    "Ai=np.pi*Di**2/4 #m2\n",
    "De=25*10**-3 #m\n",
    "Ae=np.pi*De**2/4 #m2\n",
    "\n",
    "ve = (2*g-(zf-ze))**0.5 # m/s\n",
    "print('ve=',ve)\n",
    "Q = ve*Ae #m3/s\n",
    "print('Q=',Q)\n",
    "va = Q/Ai\n",
    "print('va=',va)\n",
    "pa = -va**2/(2*g)*gamma\n",
    "print('pa=',pa)\n",
    "pb = gamma*(-va**2/(2*g)+zf-zb)\n",
    "print('pb=',pb)\n",
    "pc = pa\n",
    "print('pc=',pc)\n",
    "pd=gamma*(-va**2/(2*g)+(zf-zd))\n",
    "print('pd=',pd)"
   ]
  },
  {
   "cell_type": "code",
   "execution_count": null,
   "metadata": {},
   "outputs": [],
   "source": []
  }
 ],
 "metadata": {
  "kernelspec": {
   "display_name": "Python 3",
   "language": "python",
   "name": "python3"
  },
  "language_info": {
   "codemirror_mode": {
    "name": "ipython",
    "version": 3
   },
   "file_extension": ".py",
   "mimetype": "text/x-python",
   "name": "python",
   "nbconvert_exporter": "python",
   "pygments_lexer": "ipython3",
   "version": "3.7.6"
  }
 },
 "nbformat": 4,
 "nbformat_minor": 4
}
