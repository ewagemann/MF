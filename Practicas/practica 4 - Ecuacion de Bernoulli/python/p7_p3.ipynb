{
 "cells": [
  {
   "cell_type": "code",
   "execution_count": 2,
   "metadata": {},
   "outputs": [],
   "source": [
    "import numpy as np\n",
    "from scipy import optimize"
   ]
  },
  {
   "cell_type": "code",
   "execution_count": 6,
   "metadata": {},
   "outputs": [
    {
     "name": "stdout",
     "output_type": "stream",
     "text": [
      "Q = 0.029304163278655655  m3/s\n"
     ]
    }
   ],
   "source": [
    "## parte A\n",
    "\n",
    "SG_hg = 13.54 \n",
    "SG_o=0.9\n",
    "g = 9.81 #m/s2\n",
    "\n",
    "h  = 28 #in\n",
    "h *= 0.0254 #m\n",
    "\n",
    "Da  = 4 #in\n",
    "Da *= 0.0254 #m\n",
    "Aa  = np.pi*Da**2/4 #m2\n",
    "\n",
    "Db  = 2 #in\n",
    "Db *= 0.0254 #m\n",
    "Ab  = np.pi*Db**2/4 #m2\n",
    "\n",
    "Q  = 2*g\n",
    "Q *= (1/Aa**2-1/Ab**2)**-1\n",
    "Q *= (h-SG_hg/SG_o*h)\n",
    "Q  = Q**0.5\n",
    "\n",
    "print('Q =',Q,' m3/s')"
   ]
  },
  {
   "cell_type": "code",
   "execution_count": 7,
   "metadata": {},
   "outputs": [
    {
     "name": "stdout",
     "output_type": "stream",
     "text": [
      "h =  0.03160804494251541  m\n"
     ]
    }
   ],
   "source": [
    "## parte b\n",
    "\n",
    "def func_q(h):\n",
    "    SG_hg = 13.54 \n",
    "    g = 9.81 #m/s2\n",
    "\n",
    "    Da  = 4 #in\n",
    "    Da *= 0.0254 #m\n",
    "    Aa  = np.pi*Da**2/4 #m2\n",
    "\n",
    "    Db  = 2 #in\n",
    "    Db *= 0.0254 #m\n",
    "    Ab  = np.pi*Db**2/4 #m2\n",
    "\n",
    "    Q  = 2*g\n",
    "    Q *= (1/Aa**2-1/Ab**2)**-1\n",
    "    Q *= (h-SG_hg/SG_o*h)\n",
    "    Q  = Q**0.5\n",
    "       \n",
    "    return Q\n",
    "\n",
    "def func_dif(h):\n",
    "    vb  = 10 #ft/s\n",
    "    vb *= 0.3048 #m\n",
    "    Q0  = vb*Ab\n",
    "\n",
    "    return func_q(h)-Q0\n",
    "\n",
    "root = optimize.newton(func_dif,28*0.0254)\n",
    "\n",
    "try:\n",
    "    print('h = ',root.real,' m')\n",
    "except Exception as e:\n",
    "    print(e)\n",
    "    print('h =', root,' m')"
   ]
  },
  {
   "cell_type": "code",
   "execution_count": null,
   "metadata": {},
   "outputs": [],
   "source": []
  }
 ],
 "metadata": {
  "kernelspec": {
   "display_name": "Python 3",
   "language": "python",
   "name": "python3"
  },
  "language_info": {
   "codemirror_mode": {
    "name": "ipython",
    "version": 3
   },
   "file_extension": ".py",
   "mimetype": "text/x-python",
   "name": "python",
   "nbconvert_exporter": "python",
   "pygments_lexer": "ipython3",
   "version": "3.8.5"
  }
 },
 "nbformat": 4,
 "nbformat_minor": 4
}
