{
 "cells": [
  {
   "cell_type": "code",
   "execution_count": 1,
   "metadata": {},
   "outputs": [],
   "source": [
    "import numpy as np"
   ]
  },
  {
   "cell_type": "code",
   "execution_count": 9,
   "metadata": {},
   "outputs": [
    {
     "name": "stdout",
     "output_type": "stream",
     "text": [
      "vb = 13.09406033283794 m/s\n",
      "zc = 9.500757186544343  m\n"
     ]
    }
   ],
   "source": [
    "g   = 9.81   # m\n",
    "pa  = 12.0   # psig\n",
    "pa *= 6.89476 # kPa\n",
    "gamma = 9.81 # kPa/m\n",
    "\n",
    "za  = 3.5    #ft\n",
    "za *= 0.3048 # m\n",
    "\n",
    "zb  = za - (3+9)*0.0254 # m\n",
    "\n",
    "vb   = 2*g\n",
    "vb  *= (pa/gamma + za-zb)\n",
    "vb **= 0.5\n",
    "\n",
    "print('vb =',vb, 'm/s')\n",
    "\n",
    "zc = vb**2/(2*g) + zb\n",
    "print('zc =',zc,' m')\n",
    "\n"
   ]
  },
  {
   "cell_type": "code",
   "execution_count": null,
   "metadata": {},
   "outputs": [],
   "source": []
  }
 ],
 "metadata": {
  "kernelspec": {
   "display_name": "Python 3",
   "language": "python",
   "name": "python3"
  },
  "language_info": {
   "codemirror_mode": {
    "name": "ipython",
    "version": 3
   },
   "file_extension": ".py",
   "mimetype": "text/x-python",
   "name": "python",
   "nbconvert_exporter": "python",
   "pygments_lexer": "ipython3",
   "version": "3.7.6"
  }
 },
 "nbformat": 4,
 "nbformat_minor": 4
}
