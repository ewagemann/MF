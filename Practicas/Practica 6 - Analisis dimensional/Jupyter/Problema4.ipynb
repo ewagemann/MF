{
 "cells": [
  {
   "cell_type": "markdown",
   "id": "cdd8d170-0506-4125-a0ad-98ae75de37ca",
   "metadata": {},
   "source": [
    "<h1> Problema 4 </h1>\n",
    "\n",
    "Los diseñadores de un globo meteorológico, cuyo propósito es recolectar muestras de polución atmosférica, desean conocer la fuerza de arrastre a la que el globo será sometido. Se anticipa que la velocidad máxima del viento será de $5 \\mathrm{~m} / \\mathrm{s}$ (es razonable suponer que el aire se encuentra a una temperatura de $\\left.20^{\\circ} \\mathrm{C}\\right)$. Un modelo a escala de <b>1:20</b> se construye para realizar pruebas en agua a $20^{\\circ} \\mathrm{C}$. \n",
    "\n",
    "\n",
    "1. ¿Qué velocidad de agua se requiere para modelar al propotipo?. \n",
    "2. Si a esta velocidad la fuerza de arrastre medida en el modelo es de $2 \\mathrm{kN}$,¿Cúal será la fuerza de arrastre correspondiente en el prototipo? \n",
    "\n"
   ]
  },
  {
   "cell_type": "markdown",
   "id": "a93f44e0-fb16-4dab-84a9-4676c9533e11",
   "metadata": {},
   "source": [
    "<h2> <b> Solución </b> </h2>"
   ]
  },
  {
   "cell_type": "markdown",
   "id": "97667434-5d09-4d83-9001-cb8a939e1631",
   "metadata": {},
   "source": [
    "<h3>\n",
    "<b> Parte 1 </b> </h3>\n",
    "\n",
    "¿Qué velocidad de agua se requiere para modelar al propotipo?. "
   ]
  },
  {
   "cell_type": "markdown",
   "id": "c6fa5c21-590e-444c-9d4c-107688f40bc1",
   "metadata": {
    "tags": []
   },
   "source": [
    "<br>\n",
    "\n",
    "Previamente a analizar este caso, deberemos definir:\n",
    "\n",
    "\n",
    "\n",
    "<b> Prototipo: globo meteorológico suspendido en una corriente de áire (flujo externo)</b>\n",
    "\n",
    "<b> Modelo: globo meteorológico a escala suspendido en una corriente de agua (flujo externo) </b>\n"
   ]
  },
  {
   "cell_type": "markdown",
   "id": "02d4787a-c2e3-4989-8fae-100f8f034722",
   "metadata": {
    "tags": []
   },
   "source": [
    "<br>\n",
    "\n",
    "Ya que el sistema a estudiar involucra un flujo externo, las siguientes relaciones se deben cumplir con tal de que exista semejanza entre modelo y prototipo:\n",
    "\n",
    "$$\n",
    "\\begin{aligned}\n",
    "\\operatorname{Re}_m &= \\operatorname{Re}_p \\\\\n",
    "\\operatorname{Ma}_m &= \\operatorname{Ma}_p \\\\\n",
    "k_m &= k_p\n",
    "\\end{aligned}\n",
    "$$\n",
    "\n",
    "Sin embargo:\n",
    "\n",
    "$$\\operatorname{Ma}_{m} = \\frac{V}{c \\,(\\text{ aire @ 20}^\\circ \\text{ C})} = \\frac{5 \\text{ m/s}}{343 \\text{ m/s}}=0.015 << 0.3$$\n",
    "\n",
    "Ya que $\\operatorname{Ma}_m<<0.3$ los efectos de compresibilidad pueden ser despreciados.\n"
   ]
  },
  {
   "cell_type": "markdown",
   "id": "ddda001d-525c-4617-8447-4b9f19da0d69",
   "metadata": {},
   "source": [
    "De esta forma, para que exista semejanza entre prototipo y modelo, se deberá cumplir:\n",
    "\n",
    "$$\n",
    "\\operatorname{Re}_m=\\operatorname{Re}_p\n",
    "$$\n"
   ]
  },
  {
   "cell_type": "markdown",
   "id": "99ae0a1b-320f-47c2-a4fa-82eec8a1811e",
   "metadata": {},
   "source": [
    "$$\\left(\\frac{\\rho V D}{\\mu} \\right)_m = \\left(\\frac{\\rho V D}{\\mu} \\right)_p$$\n",
    "\n",
    "$$\\Rightarrow V_{m}=V_p\\left(\\frac{\\rho_p}{\\rho_{m}} \\cdot \\frac{L_p}{L_{m}} \\cdot \\frac{\\mu_{p}}{\\mu_m}\\right) $$"
   ]
  },
  {
   "cell_type": "code",
   "execution_count": 1,
   "id": "ded81f02-bfd0-44a9-9868-4657fcd7d61f",
   "metadata": {},
   "outputs": [],
   "source": [
    "from IPython.display import Math, display, Latex\n",
    "import numpy as np\n"
   ]
  },
  {
   "cell_type": "code",
   "execution_count": 2,
   "id": "117d2bb5-daa7-43fe-976c-9f29cccd31c6",
   "metadata": {},
   "outputs": [],
   "source": [
    "# Propiedades relevantes de los fluidos\n",
    "\n",
    "# Agua (modelo)\n",
    "rho_m = 998.2           # kg/m^3 (@ 20ºC)\n",
    "mu_m  = 1.002 * 10**-3  # Pa*s (@ 20ºC)\n",
    "\n",
    "# Aire (prototipo)\n",
    "rho_p = 1.204           # kg/m^3 (@ 20ºC)\n",
    "mu_p  = 1.825*10**-5    # Pa*s (@ 20ºC)"
   ]
  },
  {
   "cell_type": "code",
   "execution_count": 3,
   "id": "ca13d9c8-72c3-4530-8231-ce6bc3c6ae35",
   "metadata": {},
   "outputs": [],
   "source": [
    "# Características de los sistemas\n",
    "\n",
    "D_p  = 1        # 1/L_p\n",
    "D_m  = 1/20     # 1/L_p\n",
    "\n",
    "V_p  = 5        # m/s"
   ]
  },
  {
   "cell_type": "code",
   "execution_count": 4,
   "id": "51cf78cb-e968-4f90-b96f-9dbef7c2f5b1",
   "metadata": {},
   "outputs": [
    {
     "data": {
      "text/latex": [
       "$\\displaystyle V_m = 6.62 m/s$"
      ],
      "text/plain": [
       "<IPython.core.display.Math object>"
      ]
     },
     "metadata": {},
     "output_type": "display_data"
    }
   ],
   "source": [
    "V_m  = V_p*(rho_p/rho_m)*(D_p/D_m)*(mu_m/mu_p)\n",
    "\n",
    "display(Math(r'$V_m = %4.2f m/s$'%V_m))"
   ]
  },
  {
   "cell_type": "markdown",
   "id": "5b36267c-3173-43b2-8bd4-5cfe57806cc2",
   "metadata": {},
   "source": [
    "<h3>\n",
    "<b> Parte 2 </b> </h3>\n",
    "\n",
    "Si a esta velocidad la fuerza de arrastre medida en el modelo es de $2 \\mathrm{kN}$,¿Cúal será la fuerza de arrastre correspondiente en el prototipo? \n"
   ]
  },
  {
   "cell_type": "markdown",
   "id": "4d0dd5c7-c557-494b-bcde-ab55d59706cd",
   "metadata": {},
   "source": [
    "<br>\n",
    "\n",
    "Previamente a calcular la fuerza a la cual se someterá el globo aerostático, deberemos determinar la relación que existe entre todos los parámetros involucrados en estos sistemas. "
   ]
  },
  {
   "cell_type": "markdown",
   "id": "516c7bfc-24b3-460c-9e71-6b1c48d8d41d",
   "metadata": {},
   "source": [
    "<br>\n",
    "<b> Análisis dimensional del problema </b>"
   ]
  },
  {
   "cell_type": "markdown",
   "id": "1b1ba4bc-120b-471b-b330-db37c111a534",
   "metadata": {},
   "source": [
    "</br>\n",
    "<b>Paso 1: Contar y listar variables importantes.</b>\n",
    "\n",
    "En este ejemplo, las variables a considerar son:\n",
    "- $F$ \n",
    "- $\\rho$\n",
    "- $\\mu$\n",
    "- $V$\n",
    "- $D$\n",
    "\n",
    "Deseamos determinar una expresión que permita relacionar la fuerza ejercida sobre el globo con el resto de las variables. Entonces, expresaremos la caida de presión como una función de las otras variables:\n",
    "\n",
    "\n",
    "$$\n",
    "F=f(\\rho, \\mu, {V}, D)\n",
    "$$\n",
    "\n",
    "El numero de variables en este caso corresponde a $n=5$ con $F$ variable dependiente"
   ]
  },
  {
   "cell_type": "markdown",
   "id": "d6765d3f-3057-4e37-b522-35eb513c6adc",
   "metadata": {},
   "source": [
    "<br>\n",
    "<b> Paso 2: Seleccionar dimensiones primerias </b>\n",
    "\n",
    "Seleccionaremos como dimensiones primarias masa, longitud, tiempo y temperatura (MLtT). Ya que las dimensiones de ninguna de las variables involucradas en este problema considera temperatura (T), nos limitaremos a analizar las dimensiones MLt"
   ]
  },
  {
   "cell_type": "markdown",
   "id": "65e38cdb-62a3-4fcf-a8c1-204f9fc0ea33",
   "metadata": {},
   "source": [
    "<br>\n",
    "<b> Paso 3: Listar dimensiones </b>\n",
    "\n",
    "A continuación se presenta una tabla con las dimensiones de cada variable involucrada en este problema:\n",
    "\n",
    "$$\n",
    "\\begin{array}{c|cccccc} \n",
    "& F & \\rho & \\mu & {V} & D  \\\\\n",
    "\\hline \n",
    "M & 1 & 1 & 1 & 0 & 0  \\\\\n",
    "L & 1 & -3 & -1 & 1 & 1  \\\\\n",
    "t & -2 & 0 & -1 & -1 & 0 \n",
    "\\end{array}\n",
    "$$"
   ]
  },
  {
   "cell_type": "markdown",
   "id": "f7bfb47c-7aeb-4b23-a3aa-4a48828f3b88",
   "metadata": {},
   "source": [
    "<br>\n",
    "<b>Paso 4: Determinar $j$ </b>\n",
    "\n",
    "Para determinar $j$ deberemos  calcular el rango de la matriz dimensional $\\textbf{D}$, la cual puede ser obtenida al transformar la tabla de dimensiones en una matriz: \n",
    "\n",
    "$$\n",
    "\\textbf{D}=\\begin{bmatrix}\n",
    "1 & 1 & \\color{red}{1} & \\color{red}{0} & \\color{red}{0} \\\\\n",
    "1 & -3 & \\color{red}{-1} & \\color{red}{1} & \\color{red}{1}  \\\\\n",
    "-2 & 0 & \\color{red}{-1} & \\color{red}{-1} & \\color{red}{0} \n",
    "\\end{bmatrix}\n",
    "$$\n",
    "\n",
    "El rango de la matriz $\\textbf{D}$ corresponde al <b style=color:red>mayor orden de la submatriz cuyo determinante sea distinto a cero</b>\n",
    "\n",
    "En este caso, al seleccionar la submatriz cuyos elementos son presentados en rojo:\n",
    "\n",
    "$$\n",
    "\\left|\\begin{array}{ccc}\n",
    "1 & 0 & 0 \\\\\n",
    "-1 & 1 & 1 \\\\\n",
    "-1 & -1 & 0\n",
    "\\end{array}\\right|=1 \\neq 0\n",
    "$$\n",
    "\n",
    "la cual corresponde a una matriz de orden $3$, por lo que:\n",
    "\n",
    "$$j=3$$\n",
    "\n",
    "Una vez determinado $j$ podremos definir el número de grupos adimencionales $k$ que se requiere determinar:\n",
    "\n",
    "$$k=n-j = 5-3= 2$$\n",
    "\n",
    "Es decir, deberemos generar dos grupos adimensionales (considerando tres variables de repetición)"
   ]
  },
  {
   "cell_type": "code",
   "execution_count": 5,
   "id": "97943e9f-3b2e-49e9-8d97-ea3d3b69d34b",
   "metadata": {},
   "outputs": [
    {
     "data": {
      "text/latex": [
       "$\\displaystyle rank(\\textbf{D})=3$"
      ],
      "text/plain": [
       "<IPython.core.display.Math object>"
      ]
     },
     "metadata": {},
     "output_type": "display_data"
    }
   ],
   "source": [
    "D = [[1,1,1,0,0],[1,-3,-1,1,1],[-2,0,-1,-1,0]]\n",
    "rankD = np.linalg.matrix_rank(D)\n",
    "display(Math(r'$rank(\\textbf{D})=%d$'%int(rankD)))"
   ]
  },
  {
   "cell_type": "markdown",
   "id": "4040bc31-c65a-47c8-a76f-8ad13f11decf",
   "metadata": {},
   "source": [
    "<br>\n",
    "<b> Paso 5: Seleccionar variables de repetición </b>\n",
    "\n",
    "Con tal de seleccionar las variables de repetición, deberemos considerar:\n",
    "\n",
    "- $F$ es la variable dependiente, por lo que no podremos seleccionarla como variable de repetición (en caso contrario aparecerá en todos los grupos adimensionales)\n",
    "\n",
    "\n",
    "De esta forma, nuestras alternativas para seleccionar las variables de repetición se reducen a:\n",
    "\n",
    "- $\\mu$\n",
    "- $V$\n",
    "- $\\rho$\n",
    "- $D$\n",
    "\n"
   ]
  },
  {
   "cell_type": "markdown",
   "id": "04f2d546-96c7-49d5-aa7f-bb0e1304e3e5",
   "metadata": {},
   "source": [
    "Al momento de seleccionar las variables de repetición deberemos asegurarnos que cada dimensión (en este problema M, L y t) tenga asignada una variable de repetición. Además, si una variable fue seleccioanda como de repetición y esta fue asociada a una dimensión, no podrá ser seleccionada nuevamente como variable de repetición para otra dimensión (en este caso deberemos seleccionar tres variables de repetición distintas).\n",
    "\n"
   ]
  },
  {
   "cell_type": "markdown",
   "id": "fdc1fe50-4ed2-424e-a1eb-3d36de750bee",
   "metadata": {},
   "source": [
    "El proceso de selección puede ser facilitado al listar las dimensiones del problema y los posibles candidatos que contengan esta dimensión:\n",
    "\n",
    "Masa (M):\n",
    "- $\\mu$\n",
    "- $\\rho$ &#10004; \n",
    "\n",
    "Longitud (L):\n",
    "- $\\mu$\n",
    "- $\\rho$\n",
    "- $D$ &#10004; \n",
    "\n",
    "tiempo:\n",
    "\n",
    "- $\\mu$\n",
    "- $V$ &#10004; \n",
    "\n",
    "Seleccionaremos:\n",
    "\n",
    "$\\rho$, $D$ y $V$\n",
    "\n"
   ]
  },
  {
   "cell_type": "markdown",
   "id": "28a8b0fb-dfa9-4a16-a252-634720e9dc4d",
   "metadata": {},
   "source": [
    "Ya habiendo realizado nuestra selección, deberemos asegurarnos que estas no formen un grupo adimensional al ser multiplicadas (independientemente de la potencia a la cual estas estén elevadas).\n",
    "​\n",
    "$$\n",
    "\\left\\{\\rho\\right\\}^{a}\\left\\{V\\right\\}^{b}\\{D\\}^{c} =\\left\\{\\frac{M}{L^{3}}\\right\\}^{a}\\left\\{\\frac{L}{T}\\right\\}^{b}\\{L\\}^{c}\\stackrel{?}{=} \\{-\\}\n",
    "$$\n",
    "​\n",
    "En este caso, la respuesta a esta interrogante es sencilla: los parámetros seleccionados no forman un grupo adimensional ya que la única variable que posee dimensión temporal corresponde a la velocidad. De igual forma, podemos probar esto al intentar formar un grupo adimensional con estas variables:\n",
    "​\n",
    "$$\\Pi=\\rho^a V^b D^c \\rightarrow \\left(\\frac{M}{L^3}\\right)^a \\left(\\frac{L}{t}\\right)^b \\left(L\\right)^c = M^0 L^0t^0$$ \n",
    "​\n",
    "El sistema de ecuaciones relacionado a este problema es:\n",
    "​\n",
    "$$\n",
    "\\begin{aligned}\n",
    "&M: \\qquad &a&=0 \\\\\n",
    "&L:\\qquad &-3 a+b+c&=0 \\\\\n",
    "&t:\\qquad &-b&=0\n",
    "\\end{aligned}\n",
    "$$\n",
    "​\n",
    "Expresado de forma vectorial:\n",
    "​\n",
    "$$\\textbf{A}\\textbf{x}=\\textbf{b}$$\n",
    "​\n",
    "$$\n",
    "\\begin{bmatrix} \n",
    "1 & 0 & 0 \\\\ -3 &1 & 1 \\\\ 0 & -1 & 0\n",
    "\\end{bmatrix}\n",
    "\\begin{bmatrix} \n",
    "a \\\\ b \\\\ c\n",
    "\\end{bmatrix}\n",
    "= \n",
    "\\begin{bmatrix} \n",
    "0\\\\ 0 \\\\ 0\n",
    "\\end{bmatrix}\n",
    "$$\n",
    "​\n",
    "Que poseerá solución no trivial ($a=0$, $b=0$, $c=0$) solo si:\n",
    "​\n",
    "$$\\det{\\textbf{A}}= 0$$"
   ]
  },
  {
   "cell_type": "code",
   "execution_count": 6,
   "id": "9e722d86-1fbb-4d60-acff-8f7abf5bc488",
   "metadata": {},
   "outputs": [
    {
     "data": {
      "text/latex": [
       "$\\displaystyle \\det{\\mathbf{A}}=1.00 \\neq 0$"
      ],
      "text/plain": [
       "<IPython.core.display.Math object>"
      ]
     },
     "metadata": {},
     "output_type": "display_data"
    }
   ],
   "source": [
    "A = [[1,0,0],[-3,1,1],[0,-1,0]]\n",
    "detA = np.linalg.det(A)\n",
    "display(Math(r'$\\det{\\mathbf{A}}=%4.2f \\neq 0$'%detA))"
   ]
  },
  {
   "cell_type": "markdown",
   "id": "bd33eb5e-e154-46f9-9cea-cac57bdb39ff",
   "metadata": {},
   "source": [
    "De esta forma, comprobamos que los parámetros seleccionados no forman un grupo adimensional"
   ]
  },
  {
   "cell_type": "markdown",
   "id": "b0a80d8d-912d-49df-845c-f924929c01a7",
   "metadata": {},
   "source": [
    "<br>\n",
    "<b> Paso 6: Armar y resolver ecuaciones dimensionales </b>\n",
    "\n",
    "Para cada uno de los tres grupos adimensionales que deberemos generar, crearemos un sistemas de ecuaciones en base a que:\n",
    "- El grupo adimensional se generara mediante la multiplicación de uno de los parámetros que no fue seleccionado como variable de repetición y las variables de repetición. \n",
    "- Cada variable de repetición será elevada a una potencia cuyo valor deberemos determinar\n",
    "- El producto obtenido ha de carecer de dimensiones"
   ]
  },
  {
   "cell_type": "markdown",
   "id": "1985b0c4-f2f7-42f8-8c9d-415f6245f4ed",
   "metadata": {},
   "source": [
    "<br>\n",
    "\n",
    "Grupo adimensional $\\Pi_1$:\n",
    "\n",
    "$$\n",
    "\\Pi_{1}=(F) V^{a} \\rho^{b} D^{c} \\Rightarrow\\left(\\frac{M L}{ t^{2}}\\right)\\left(\\frac{L}{t}\\right)^{a}\\left(\\frac{M}{L^{3}}\\right)^{b}(L)^{c}= M^{0} L^{0} T^{0}\n",
    "$$\n",
    "\n",
    "Lo cual solo se cumplirá si:\n",
    "\n",
    "$$\n",
    "\\begin{aligned}\n",
    "&M: \\quad& 1+b&=0 \\\\\n",
    "&L: \\quad& 1+a-3 b+c&=0 \\\\\n",
    "&t: \\quad&-2-a&=0\n",
    "\\end{aligned}\n",
    "$$\n",
    "En notación vectorial:\n",
    "\n",
    "$$\n",
    "\\left[\\begin{array}{ccc}\n",
    "0 & 1 & 0 \\\\\n",
    "1 & -3 & 1 \\\\\n",
    "-1 & 0 & 0\n",
    "\\end{array}\\right]\\left[\\begin{array}{l}\n",
    "a \\\\\n",
    "b \\\\\n",
    "c\n",
    "\\end{array}\\right]=\\left[\\begin{array}{r}\n",
    "-1 \\\\\n",
    "-1 \\\\\n",
    "2\n",
    "\\end{array}\\right]\n",
    "$$"
   ]
  },
  {
   "cell_type": "code",
   "execution_count": 7,
   "id": "51dcc63e-4443-4f7b-8850-c5c12b113bf7",
   "metadata": {},
   "outputs": [
    {
     "data": {
      "text/latex": [
       "$\\displaystyle \\begin{bmatrix} a \\\\ b \\\\ c \\end{bmatrix} = \\begin{bmatrix} -2 \\\\ -1 \\\\ -2 \\end{bmatrix}$"
      ],
      "text/plain": [
       "<IPython.core.display.Math object>"
      ]
     },
     "metadata": {},
     "output_type": "display_data"
    }
   ],
   "source": [
    "A = [[0,1,0],[1,-3,1],[-1,0,0]]\n",
    "b = [-1,-1,2]\n",
    "x = np.linalg.solve(A,b)\n",
    "\n",
    "display(Math(r'$\\begin{bmatrix} a \\\\ b \\\\ c \\end{bmatrix} = \\begin{bmatrix} %d \\\\ %d \\\\ %d \\end{bmatrix}$'\n",
    "             %(int(x[0]),int(x[1]),int(x[2]))))"
   ]
  },
  {
   "cell_type": "markdown",
   "id": "967f8f0b-8706-48dd-91d5-47c66e7eb6bf",
   "metadata": {},
   "source": [
    "De esta forma:\n",
    "\n",
    "$$\\Pi_1 = \\frac{F}{V^2 \\rho D^2}$$\n",
    "\n",
    "Podemos realizar ciertas modificaciones a este grupo considerando los siguientes puntos:\n",
    "- Si suponemos que la fuerza que se ejerce sobre el globo es paralela a la dirección de su movimiento, entonces la fuerza $F$ correspondería a la fuerza de arrastre $F_D$ que ejerce el fluido en su paso alrededor del sólido.\n",
    "- Al multiplicar el término $D^2$ por $\\pi/4$ se obtiene el área de la sección transversal del globo\n",
    "- Multiplicaremos el término por $2$\n",
    "\n",
    "De esta forma, realizando las modificaciones propuestas:\n",
    "\n",
    "$$ \\Pi_1 = \\frac{F_D}{\\frac{1}{2} V^2 \\rho \\frac{\\pi}{4}D^2} = C_D$$"
   ]
  },
  {
   "cell_type": "markdown",
   "id": "72961bb0-55f6-4ba6-855e-c452e323ad60",
   "metadata": {},
   "source": [
    "<br>\n",
    "\n",
    "Grupo adimensional $\\Pi_2$:\n",
    "\n",
    "$$\n",
    "\\Pi_{1}=(\\mu) V^{a} \\rho^{b} D^{c} \\Rightarrow\\left(\\frac{M}{L t}\\right)\\left(\\frac{L}{t}\\right)^{a}\\left(\\frac{M}{L^{3}}\\right)^{b}(L)^{c}= M^{0} L^{0} T^{0}\n",
    "$$\n",
    "\n",
    "Lo cual solo se cumplirá si:\n",
    "\n",
    "$$\n",
    "\\begin{aligned}\n",
    "&M: \\quad& 1+b&=0 \\\\\n",
    "&L: \\quad&-1+a-3 b+c&=0 \\\\\n",
    "&t: \\quad&-1-a&=0\n",
    "\\end{aligned}\n",
    "$$\n",
    "En notación vectorial:\n",
    "\n",
    "$$\n",
    "\\left[\\begin{array}{ccc}\n",
    "0 & 1 & 0 \\\\\n",
    "1 & -3 & 1 \\\\\n",
    "-1 & 0 & 0\n",
    "\\end{array}\\right]\\left[\\begin{array}{l}\n",
    "a \\\\\n",
    "b \\\\\n",
    "c\n",
    "\\end{array}\\right]=\\left[\\begin{array}{r}\n",
    "-1 \\\\\n",
    "1 \\\\\n",
    "1\n",
    "\\end{array}\\right]\n",
    "$$"
   ]
  },
  {
   "cell_type": "code",
   "execution_count": 8,
   "id": "e690d8d2-41ec-4f06-b5e1-c4c3f5a0b0f6",
   "metadata": {},
   "outputs": [
    {
     "data": {
      "text/latex": [
       "$\\displaystyle \\begin{bmatrix} a \\\\ b \\\\ c \\end{bmatrix} = \\begin{bmatrix} -1 \\\\ -1 \\\\ -1 \\end{bmatrix}$"
      ],
      "text/plain": [
       "<IPython.core.display.Math object>"
      ]
     },
     "metadata": {},
     "output_type": "display_data"
    }
   ],
   "source": [
    "A = [[0,1,0],[1,-3,1],[-1,0,0]]\n",
    "b = [-1,1,1]\n",
    "x = np.linalg.solve(A,b)\n",
    "\n",
    "display(Math(r'$\\begin{bmatrix} a \\\\ b \\\\ c \\end{bmatrix} = \\begin{bmatrix} %d \\\\ %d \\\\ %d \\end{bmatrix}$'\n",
    "             %(int(x[0]),int(x[1]),int(x[2]))))"
   ]
  },
  {
   "cell_type": "markdown",
   "id": "e1b03da5-751d-406d-baa2-c803b8e4f428",
   "metadata": {},
   "source": [
    "De esta forma:\n",
    "\n",
    "$$\n",
    "\\Pi_{2}=\\frac{\\mu}{\\rho V D} = \\operatorname{Re}^{-1}\n",
    "$$\n",
    "\n",
    "Ya que $\\Pi_2$ corresponde a $\\operatorname{Re}^{-1}$ podemos modificar nuestro resultado y simplemente definir:\n",
    "\n",
    "$$\\Pi_2 = Re = \\frac{\\rho  V D}{\\mu}$$"
   ]
  },
  {
   "cell_type": "markdown",
   "id": "a1038d10-487e-44bc-8f3e-a7904c737bdf",
   "metadata": {},
   "source": [
    "<br> \n",
    "<b>Paso 7: Verificar y presentar información</b>\n",
    "\n",
    "Verificación:\n",
    "\n",
    "$\\Pi_1 = C_D$, con $C_D$ un grupo <b>adimensional</b> de importancia para la mecánica de fluidos &#10004; \n",
    "\n",
    "$\\Pi_2 = \\operatorname{Re}$, con $\\operatorname{Re}$ un grupo <b>adimensional</b> de importancia para la mecánica de fluidos &#10004; \n",
    "\n",
    "\n",
    "\n",
    "Ya habiendo verificado nuestros resultados, los presentamos en su forma funcional:\n",
    "\n",
    "$$\n",
    "\\Pi_{1}=f\\left(\\Pi_{2}\\right)\n",
    "$$\n",
    "\n",
    "$$\n",
    "\\frac{F}{\\frac{1}{2} \\rho {V}^{2}\\frac{\\pi}{4}D^2}=f\\left( \\frac{\\rho V D}{\\mu}\\right)\n",
    "$$\n",
    "\n",
    "$$\n",
    "C_{D}=f\\left(\\operatorname{Re}\\right)\n",
    "$$"
   ]
  },
  {
   "cell_type": "markdown",
   "id": "970ca362-1fe9-4686-97d9-899fc28ae0bf",
   "metadata": {},
   "source": [
    "Ya habiendo determinado la relación entre los parámetros involucrados (mediante la creación de grupos adimensionales) podremos determinar la fuerza que se ejerce sobre el globo. Para esto, deberemos recordar que si existe semejanza completa entre modelo y prototipo se debe cumplir:\n",
    "\n",
    "$$\\begin{aligned}\n",
    "\\operatorname{Re}_m &= \\operatorname{Re_p} \\\\\n",
    "\\left(C_D\\right)_m &= \\left(C_D\\right)_p \\\\\n",
    "\\end{aligned}$$"
   ]
  },
  {
   "cell_type": "markdown",
   "id": "63f0be0a-e289-4f67-84c1-adc21a3954f4",
   "metadata": {},
   "source": [
    "Nos limitaremos a analizar la igualdad entre los coeficientes de arrastre:\n",
    "$$\n",
    "\\left(\\frac{F}{\\frac{1}{2} V^{2}\\rho \\frac{\\pi}{4} D^{2}}\\right)_m=\\left(\\frac{F}{\\frac{1}{2} V^{2}\\rho \\frac{\\pi}{4} D^{2}}\\right)_p $$\n",
    "\n",
    "$$\n",
    "\\Rightarrow F_p=F_m\\left( \\frac{\\rho_p}{\\rho_m}\\right)\\left( \\frac{V_p^2}{V_m^2}\\right)\\left( \\frac{D_p}{D_m}\\right)\n",
    "$$"
   ]
  },
  {
   "cell_type": "code",
   "execution_count": 9,
   "id": "14035b88-2028-466d-a084-7da70118860f",
   "metadata": {},
   "outputs": [
    {
     "data": {
      "text/latex": [
       "$\\displaystyle F_p = 0.55 kN$"
      ],
      "text/plain": [
       "<IPython.core.display.Math object>"
      ]
     },
     "metadata": {},
     "output_type": "display_data"
    }
   ],
   "source": [
    "F_m = 2  # kN\n",
    "\n",
    "F_p = F_m*rho_p/rho_m*V_p**2/V_m**2*D_p**2/D_m**2\n",
    "display(Math(r'$F_p = %4.2f kN$'%F_p))"
   ]
  }
 ],
 "metadata": {
  "kernelspec": {
   "display_name": "Python 3",
   "language": "python",
   "name": "python3"
  },
  "language_info": {
   "codemirror_mode": {
    "name": "ipython",
    "version": 3
   },
   "file_extension": ".py",
   "mimetype": "text/x-python",
   "name": "python",
   "nbconvert_exporter": "python",
   "pygments_lexer": "ipython3",
   "version": "3.8.8"
  }
 },
 "nbformat": 4,
 "nbformat_minor": 5
}
