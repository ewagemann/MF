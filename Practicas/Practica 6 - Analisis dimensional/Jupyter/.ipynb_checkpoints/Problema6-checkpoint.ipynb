{
 "cells": [
  {
   "cell_type": "markdown",
   "id": "f4da9938-eda2-407c-a325-15bb2053ffa3",
   "metadata": {},
   "source": [
    "<h1> Problema 6 </h1>\n",
    "\n",
    "\n",
    "Una bomba centrifuga funcionando a una velocidad $\\omega=800 rpm$ tiene los siguientes datos para flujo volumétrico $Q$ y diferencia de presión $\\Delta p$:\n",
    "\n",
    "\\begin{array}{lcccccccc}\n",
    "\\hline Q\\left(\\mathrm{ft}^{3} / \\mathrm{min}\\right) & 0 & 50 & 75 & 100 & 120 & 140 & 150 & 165 \\\\\n",
    "\\hline \\Delta p(\\mathrm{psf}) & 7.54 & 7.29 & 6.85 & 6.12 & 4.80 & 3.03 & 2.38 & 1.23 \\\\\n",
    "\\hline\n",
    "\\end{array}\n",
    "\n",
    "La diferencia de presión es una función del flujo volumétrico, velocidad, diametro del propulsor $D$, y densidad del agua $\\rho$. \n",
    "1. Grafíque la diferencia de presión vs. flujo volumétrico utilizando la información previa. \n",
    "2. Encuentre los grupos adimensionales para este problema y grafíquelos. \n",
    "3. Realíce un análisis numérico de las curvas y basado en este análisis genere y grafique datos para diferencia de presión vs. flujo volumétrico para velocidades del propulsor de $600$\\,rpm y $1200$\\,rpm.\n",
    "\n"
   ]
  },
  {
   "cell_type": "markdown",
   "id": "377f964d-dfe5-4f30-8d10-38544b6cfe60",
   "metadata": {},
   "source": [
    "<br>\n",
    "<h2>\n",
    "<b> Solución </b>"
   ]
  },
  {
   "cell_type": "markdown",
   "id": "82dfcccd-b30a-4f0e-a323-7c87300f8a69",
   "metadata": {},
   "source": [
    "<h3><b>Parte 1. </b></h3>\n",
    "\n",
    "Grafíque la diferencia de presión vs. flujo volumétrico utilizando la información previa."
   ]
  },
  {
   "cell_type": "code",
   "execution_count": 1,
   "id": "4f5b6818-b70f-4137-b6ce-91b3ac9caa3d",
   "metadata": {},
   "outputs": [],
   "source": [
    "import numpy as np\n",
    "import matplotlib.pyplot as plt\n",
    "from IPython.display import display, Math, Latex"
   ]
  },
  {
   "cell_type": "markdown",
   "id": "e1f9cc23-7607-4f7d-9acf-9563076ba367",
   "metadata": {},
   "source": [
    "Transformaremos nuestros datos a SI:"
   ]
  },
  {
   "cell_type": "code",
   "execution_count": 2,
   "id": "9d4c8ddc-8ebb-412a-9337-200282bd36be",
   "metadata": {},
   "outputs": [],
   "source": [
    "Q  = [0,50,75,100,120,140,150,165] # ft3/min\n",
    "Q  = np.multiply(Q,0.3048**3) # m3/min\n",
    "\n",
    "dp = [7.54,7.29,6.85,6.12,4.80,3.03,2.38,1.23] # psf\n",
    "dp = np.multiply(dp,47.88) #Pa"
   ]
  },
  {
   "cell_type": "code",
   "execution_count": 3,
   "id": "009fe57f-e5ef-4c0d-aa36-408bd9c4e7a9",
   "metadata": {},
   "outputs": [
    {
     "data": {
      "image/png": "[encoded data removed]",
      "text/plain": [
       "<Figure size 450x450 with 1 Axes>"
      ]
     },
     "metadata": {
      "needs_background": "light"
     },
     "output_type": "display_data"
    }
   ],
   "source": [
    "fig=plt.figure(figsize=(3,3),dpi=150)\n",
    "ax= fig.add_subplot(111)\n",
    "\n",
    "ax.set_xlabel('Q (m$^3$/s)',fontsize=18)\n",
    "ax.set_ylabel('$\\Delta  p$ (Pa)',fontsize=18)\n",
    "ax.plot(Q,dp,'.')\n",
    "plt.savefig('qvdp.png')"
   ]
  },
  {
   "cell_type": "markdown",
   "id": "367a093c-bd13-4b8d-862c-73a69f1c8bf2",
   "metadata": {},
   "source": [
    "<h3><b>Parte 2. </b></h3>\n",
    "\n",
    "Encuentre los grupos adimensionales para este problema y grafíquelos."
   ]
  },
  {
   "cell_type": "markdown",
   "id": "6a380362-cb4c-4053-9670-3ca3c1d9a935",
   "metadata": {},
   "source": [
    "<br>\n",
    "<b> Análisis dimensional del problema </b>"
   ]
  },
  {
   "cell_type": "markdown",
   "id": "78cec739-b7c0-4c1b-9205-ea4ca9af5990",
   "metadata": {},
   "source": [
    "</br>\n",
    "<b>Paso 1: Contar y listar variables importantes.</b>\n",
    "\n",
    "En este ejemplo, las variables a considerar son:\n",
    "- $\\Delta p$ \n",
    "- $Q$\n",
    "- $\\omega$\n",
    "- $D$\n",
    "- $\\rho$\n",
    "\n",
    "Deseamos determinar una expresión que permita relacionar la caida de presión $\\Delta p$ con el resto de las variables. Entonces, expresaremos la caida de presión como una función de las otras variables:\n",
    "\n",
    "\n",
    "$$\n",
    "F=f(Q, \\omega, {D},\\rho)\n",
    "$$\n",
    "\n",
    "El numero de variables en este caso corresponde a $n=5$ con $\\Delta p$ variable dependiente"
   ]
  },
  {
   "cell_type": "markdown",
   "id": "f641eb44-70ed-4b26-920e-653ee5216ded",
   "metadata": {},
   "source": [
    "<br>\n",
    "<b> Paso 2: Seleccionar dimensiones primerias </b>\n",
    "\n",
    "Seleccionaremos como dimensiones primarias masa, longitud, tiempo y temperatura (MLtT). Ya que las dimensiones de ninguna de las variables involucradas en este problema considera temperatura (T), nos limitaremos a analizar las dimensiones MLt"
   ]
  },
  {
   "cell_type": "markdown",
   "id": "b6446ba1-e671-4794-b0b8-74c8a89a131b",
   "metadata": {},
   "source": [
    "<br>\n",
    "<b> Paso 3: Listar dimensiones </b>\n",
    "\n",
    "A continuación se presenta una tabla con las dimensiones de cada variable involucrada en este problema:\n",
    "\n",
    "$$\n",
    "\\begin{array}{c|ccccc} \n",
    "& \\Delta p & Q & \\omega & D & \\rho  \\\\\n",
    "\\hline \n",
    "M & 1 & 0 & 0 & 0 & 1  \\\\\n",
    "L & -1 & 3 & 0 & 1 & -3  \\\\\n",
    "t & -2 & -1 & -1 & 0 & 0 \n",
    "\\end{array}\n",
    "$$"
   ]
  },
  {
   "cell_type": "markdown",
   "id": "e33bd00f-bad4-4687-9f05-7c87ee883ab0",
   "metadata": {},
   "source": [
    "<br>\n",
    "<b> Paso 3: Listar dimensiones </b>\n",
    "\n",
    "A continuación se presenta una tabla con las dimensiones de cada variable involucrada en este problema:\n",
    "\n",
    "$$\n",
    "\\begin{array}{c|cccccc} \n",
    "& \\Delta p & Q & \\omega & {D} & \\rho  \\\\\n",
    "\\hline \n",
    "M & 1 & 0 & 0 & 0 & 1  \\\\\n",
    "L & -1 & 3 & 0 & 1 & -3  \\\\\n",
    "t & -2 & -1 & -1 & 0 & 0 \n",
    "\\end{array}\n",
    "$$"
   ]
  },
  {
   "cell_type": "markdown",
   "id": "d865323e-581b-4252-af73-7627efe827f3",
   "metadata": {},
   "source": [
    "<br>\n",
    "<b>Paso 4: Determinar $j$ </b>\n",
    "\n",
    "Para determinar $j$ deberemos  calcular el rango de la matriz dimensional $\\textbf{D}$, la cual puede ser obtenida al transformar la tabla de dimensiones en una matriz: \n",
    "\n",
    "$$\n",
    "\\textbf{D}=\\begin{bmatrix}\n",
    " 1 & 0 & \\color{red}{0} & \\color{red}{0} & \\color{red}{1}  \\\\\n",
    " -1 & 3 & \\color{red}{0} & \\color{red}{1} & \\color{red}{-3}  \\\\\n",
    " -2 & -1 & \\color{red}{-1} & \\color{red}{0} & \\color{red}{0} \n",
    "\\end{bmatrix}\n",
    "$$\n",
    "\n",
    "El rango de la matriz $\\textbf{D}$ corresponde al <b style=color:red>mayor orden de la submatriz cuyo determinante sea distinto a cero</b>\n",
    "\n",
    "En este caso, al seleccionar la submatriz cuyos elementos son presentados en rojo:\n",
    "\n",
    "$$\n",
    "\\left|\\begin{array}{ccc}\n",
    "0 & 0 & 1 \\\\\n",
    "0 & 1 & -3 \\\\\n",
    "-1 & 0 & 0\n",
    "\\end{array}\\right|=1 \\neq 0\n",
    "$$\n",
    "\n",
    "la cual corresponde a una matriz de orden $3$, por lo que:\n",
    "\n",
    "$$j=3$$\n",
    "\n",
    "Una vez determinado $j$ podremos definir el número de grupos adimencionales $k$ que se requiere determinar:\n",
    "\n",
    "$$k=n-j = 5-3= 2$$\n",
    "\n",
    "Es decir, deberemos generar dos grupos adimensionales (considerando tres variables de repetición)"
   ]
  },
  {
   "cell_type": "code",
   "execution_count": 4,
   "id": "94e9d6b9-6de0-4d7d-86bf-f9ee80d2eece",
   "metadata": {},
   "outputs": [
    {
     "data": {
      "text/latex": [
       "$\\displaystyle rank(\\textbf{D})=3$"
      ],
      "text/plain": [
       "<IPython.core.display.Math object>"
      ]
     },
     "metadata": {},
     "output_type": "display_data"
    }
   ],
   "source": [
    "D = [[1,0,0,0,1],[-1,3,0,1,-3],[-2,-1,-1,0,0]]\n",
    "rankD = np.linalg.matrix_rank(D)\n",
    "display(Math(r'$rank(\\textbf{D})=%d$'%int(rankD)))"
   ]
  },
  {
   "cell_type": "markdown",
   "id": "d3a023ae-34f6-41e5-8fe1-895eefdaf077",
   "metadata": {},
   "source": [
    "<br>\n",
    "<b> Paso 5: Seleccionar variables de repetición </b>\n",
    "\n",
    "Con tal de seleccionar las variables de repetición, deberemos considerar:\n",
    "\n",
    "- $\\Delta p$ es la variable dependiente, por lo que no podremos seleccionarla como variable de repetición (en caso contrario aparecerá en todos los grupos adimensionales)\n",
    "- $Q$ es la variable independiente de interés, por lo que no la seleccionaremos como variable de repetición (en caso contrario aparecerá en todos los grupos adimensionales)\n",
    "\n",
    "De esta forma, nuestras alternativas para seleccionar las variables de repetición se reducen a:\n",
    "\n",
    "- $\\rho$\n",
    "- $\\omega$\n",
    "- $D$\n",
    "\n",
    "\n"
   ]
  },
  {
   "cell_type": "markdown",
   "id": "f57f8577-1684-40d4-a475-fac23651d665",
   "metadata": {},
   "source": [
    "En este caso, no deberemos seleccionar variables de repetición entre un conjunto de candidatos, ya que los candidatos corresponden a un grupo de tres (el número de variables de repetición requeridas). A pesar de esto, deberemos asegurarnos que estas no formen un grupo adimensional entre sí (independientemente de la potencia a la cual estas estén elevadas).\n",
    "\n",
    "$$\n",
    "\\left\\{\\rho\\right\\}^{a}\\left\\{\\omega \\right\\}^{b}\\{D\\}^{c} =\\left\\{\\frac{M}{L^{3}}\\right\\}^{a}\\left\\{\\frac{1}{t}\\right\\}^{b}\\{L\\}^{c}\\stackrel{?}{=} \\{-\\}\n",
    "$$\n",
    "\n",
    "En este caso, la respuesta a esta interrogante es sencilla: los parámetros seleccionados no forman un grupo adimensional ya que la única variable que posee dimensión temporal corresponde a la velocidad angular $\\omega$. De igual forma, podemos probar esto al intentar formar un grupo adimensional con estas variables:\n",
    "\n",
    "$$\\Pi=\\rho^aV^bD^c \\rightarrow \\left(\\frac{M}{L^3}\\right)^a\\left(\\frac{1}{t}\\right)^b\\left(L\\right)^c = M^0 L^0t^0$$ \n",
    "\n",
    "El sistema de ecuaciones relacionado a este problema es:\n",
    "\n",
    "$$\n",
    "\\begin{aligned}\n",
    "&M: \\qquad &a&=0 \\\\\n",
    "&L:\\qquad &-3a+c&=0 \\\\\n",
    "&t:\\qquad &-b&=0\n",
    "\\end{aligned}\n",
    "$$\n",
    "\n",
    "Expresado de forma vectorial:\n",
    "\n",
    "$$\\textbf{A}\\textbf{x}=\\textbf{b}$$\n",
    "\n",
    "$$\n",
    "\\begin{bmatrix} \n",
    "1 & 0 & 0 \\\\ -3 & 0 & 1 \\\\ 0 & -1 & 0\n",
    "\\end{bmatrix}\n",
    "\\begin{bmatrix} \n",
    "a \\\\ b \\\\ c\n",
    "\\end{bmatrix}\n",
    "= \n",
    "\\begin{bmatrix} \n",
    "0\\\\ 0 \\\\ 0\n",
    "\\end{bmatrix}\n",
    "$$\n",
    "\n",
    "Que poseerá solución no trivial ($a=0$, $b=0$, $c=0$) solo si:\n",
    "\n",
    "$$\\det{\\textbf{A}}= 0$$"
   ]
  },
  {
   "cell_type": "code",
   "execution_count": 5,
   "id": "fb24919c-4441-4b8f-82cb-bcf41ab65b14",
   "metadata": {},
   "outputs": [
    {
     "data": {
      "text/latex": [
       "$\\displaystyle \\det{\\mathbf{A}}=1.00 \\neq 0$"
      ],
      "text/plain": [
       "<IPython.core.display.Math object>"
      ]
     },
     "metadata": {},
     "output_type": "display_data"
    }
   ],
   "source": [
    "A = [[1,0,0],[-3,0,1],[0,-1,0]]\n",
    "detA = np.linalg.det(A)\n",
    "display(Math(r'$\\det{\\mathbf{A}}=%4.2f \\neq 0$'%detA))"
   ]
  },
  {
   "cell_type": "markdown",
   "id": "549759c1-16d5-4723-8602-5a6eff85e5cc",
   "metadata": {},
   "source": [
    "De esta forma, comprobamos que los parámetros seleccionados no forman un grupo adimensional"
   ]
  },
  {
   "cell_type": "markdown",
   "id": "c97caa00-96f4-4b5f-b837-dd794c6abac9",
   "metadata": {},
   "source": [
    "<br>\n",
    "<b> Paso 6: Armar y resolver ecuaciones dimensionales </b>\n",
    "\n",
    "Para cada uno de los tres grupos adimensionales que deberemos generar, crearemos un sistemas de ecuaciones en base a que:\n",
    "- El grupo adimensional se generara mediante la multiplicación de uno de los parámetros que no fue seleccionado como variable de repetición y las variables de repetición. \n",
    "- Cada variable de repetición será elevada a una potencia cuyo valor deberemos determinar\n",
    "- El producto obtenido ha de carecer de dimensiones"
   ]
  },
  {
   "cell_type": "markdown",
   "id": "b2c10992-12fe-44b3-ad66-f5c3ba039b90",
   "metadata": {},
   "source": [
    "<br>\n",
    "\n",
    "Grupo adimensional $\\Pi_1$:\n",
    "\n",
    "$$\n",
    "\\Pi_{1}=(\\Delta p) \\omega^{a} D^{b} \\rho^{c} \\Rightarrow\\left(\\frac{M }{L t^{2}}\\right)\\left(\\frac{1}{t}\\right)^{a}\\left({L}\\right)^{b}\\left(\\frac{M}{L^3}\\right)^{c}= M^{0} L^{0} T^{0}\n",
    "$$\n",
    "\n",
    "Lo cual solo se cumplirá si:\n",
    "\n",
    "$$\n",
    "\\begin{aligned}\n",
    "&M: \\quad& 1+c&=0 \\\\\n",
    "&L: \\quad& -1+ b-3c&=0 \\\\\n",
    "&t: \\quad&-2-a&=0\n",
    "\\end{aligned}\n",
    "$$\n",
    "En notación vectorial:\n",
    "\n",
    "$$\n",
    "\\left[\\begin{array}{ccc}\n",
    "0 & 0 & 1 \\\\\n",
    "0 & 1 & -3 \\\\\n",
    "-1 & 0 & 0\n",
    "\\end{array}\\right]\\left[\\begin{array}{l}\n",
    "a \\\\\n",
    "b \\\\\n",
    "c\n",
    "\\end{array}\\right]=\\left[\\begin{array}{r}\n",
    "-1 \\\\\n",
    "1 \\\\\n",
    "2\n",
    "\\end{array}\\right]\n",
    "$$"
   ]
  },
  {
   "cell_type": "code",
   "execution_count": 6,
   "id": "1be7ae9f-7be4-4fee-98ee-a80790c06c57",
   "metadata": {},
   "outputs": [
    {
     "data": {
      "text/latex": [
       "$\\displaystyle \\begin{bmatrix} a \\\\ b \\\\ c \\end{bmatrix} = \\begin{bmatrix} -2 \\\\ -2 \\\\ -1 \\end{bmatrix}$"
      ],
      "text/plain": [
       "<IPython.core.display.Math object>"
      ]
     },
     "metadata": {},
     "output_type": "display_data"
    }
   ],
   "source": [
    "A = [[0,0,1],[0,1,-3],[-1,0,0]]\n",
    "b = [-1,1,2]\n",
    "x = np.linalg.solve(A,b)\n",
    "\n",
    "display(Math(r'$\\begin{bmatrix} a \\\\ b \\\\ c \\end{bmatrix} = \\begin{bmatrix} %d \\\\ %d \\\\ %d \\end{bmatrix}$'\n",
    "             %(int(x[0]),int(x[1]),int(x[2]))))"
   ]
  },
  {
   "cell_type": "markdown",
   "id": "300e14eb-919c-41c5-a669-8f844a8b4ed8",
   "metadata": {},
   "source": [
    "De esta forma:\n",
    "\n",
    "$$\n",
    "\\Pi_{1}=\\frac{\\Delta p}{\\omega^2 D^2 \\rho} \n",
    "$$\n"
   ]
  },
  {
   "cell_type": "markdown",
   "id": "f945633f-5e14-41bb-82ed-65cadec1c7a2",
   "metadata": {},
   "source": [
    "<br>\n",
    "\n",
    "Grupo adimensional $\\Pi_2$:\n",
    "\n",
    "$$\n",
    "\\Pi_{2}=(Q) \\omega^{a} D^{b} \\rho^{c} \\Rightarrow\\left(\\frac{L^3 }{t}\\right)\\left(\\frac{1}{t}\\right)^{a}\\left({L}\\right)^{b}\\left(\\frac{M}{L^3}\\right)^{c}= M^{0} L^{0} T^{0}\n",
    "$$\n",
    "\n",
    "Lo cual solo se cumplirá si:\n",
    "\n",
    "$$\n",
    "\\begin{aligned}\n",
    "&M: \\quad& c&=0 \\\\\n",
    "&L: \\quad& 3+ b-3c&=0 \\\\\n",
    "&t: \\quad&-1-a&=0\n",
    "\\end{aligned}\n",
    "$$\n",
    "En notación vectorial:\n",
    "\n",
    "$$\n",
    "\\left[\\begin{array}{ccc}\n",
    "0 & 0 & 1 \\\\\n",
    "0 & 1 & -3 \\\\\n",
    "-1 & 0 & 0\n",
    "\\end{array}\\right]\\left[\\begin{array}{l}\n",
    "a \\\\\n",
    "b \\\\\n",
    "c\n",
    "\\end{array}\\right]=\\left[\\begin{array}{r}\n",
    "0 \\\\\n",
    "-3 \\\\\n",
    "1\n",
    "\\end{array}\\right]\n",
    "$$"
   ]
  },
  {
   "cell_type": "code",
   "execution_count": 7,
   "id": "cea76ccc-9307-4c29-9529-141d4ccd48c2",
   "metadata": {},
   "outputs": [
    {
     "data": {
      "text/latex": [
       "$\\displaystyle \\begin{bmatrix} a \\\\ b \\\\ c \\end{bmatrix} = \\begin{bmatrix} -1 \\\\ -3 \\\\ 0 \\end{bmatrix}$"
      ],
      "text/plain": [
       "<IPython.core.display.Math object>"
      ]
     },
     "metadata": {},
     "output_type": "display_data"
    }
   ],
   "source": [
    "A = [[0,0,1],[0,1,-3],[-1,0,0]]\n",
    "b = [0,-3,1]\n",
    "x = np.linalg.solve(A,b)\n",
    "\n",
    "display(Math(r'$\\begin{bmatrix} a \\\\ b \\\\ c \\end{bmatrix} = \\begin{bmatrix} %d \\\\ %d \\\\ %d \\end{bmatrix}$'\n",
    "             %(int(x[0]),int(x[1]),int(x[2]))))"
   ]
  },
  {
   "cell_type": "markdown",
   "id": "b40b706c-048a-4a7c-b125-119966ba20d2",
   "metadata": {},
   "source": [
    "De esta forma:\n",
    "\n",
    "$$\n",
    "\\Pi_{2}=\\frac{Q}{\\omega  D^3 } \n",
    "$$"
   ]
  },
  {
   "cell_type": "markdown",
   "id": "9beaed4a-e2b4-4a8d-8914-1bdede18ff99",
   "metadata": {},
   "source": [
    "<br> \n",
    "<b>Paso 7: Verificar y presentar información</b>\n",
    "\n",
    "Verificación:\n",
    "\n",
    "$\\left\\{\\Pi_1\\right\\} = \\frac{\\left\\{ \\Delta p \\right\\}}{\\left\\{ \\omega \\right\\}^2 \\left\\{ D \\right\\}^2 \\left\\{ \\Delta \\rho \\right\\}} =\\left\\{ \\frac{\\frac{M}{Lt^2}} {\\frac{1}{t}^2L^2\\frac{M}{L^3}} \\right\\} = \\left\\{ - \\right\\}$  &#10004; \n",
    "\n",
    "$\\left\\{\\Pi_2\\right\\} = \\frac{\\left\\{ Q \\right\\}}{\\left\\{ \\omega \\right\\} \\left\\{ D \\right\\}^3} =\\left\\{ \\frac{\\frac{L^3}{t}} {\\frac{1}{t} L^3} \\right\\} = \\left\\{ - \\right\\}$  &#10004; \n",
    "\n",
    "Ya habiendo verificado nuestros resultados, los presentamos en su forma funcional:\n",
    "\n",
    "$$\n",
    "\\Pi_{1}=f\\left(\\Pi_{2}\\right)\n",
    "$$\n",
    "\n",
    "$$\n",
    "\\frac{\\Delta p}{\\omega^2 D^2 \\rho} =f\\left( \\frac{Q}{\\omega  D^3 } \\right)\n",
    "$$\n"
   ]
  },
  {
   "cell_type": "markdown",
   "id": "c5943f14-f521-4675-a50d-4950438e7512",
   "metadata": {},
   "source": [
    "Ya habiendo determinado los grupos adimensionales relevantes, procederemos a graficarlos. Para determinar cada uno de estos términos deberemos utilizar la información entregada por el enunciado. <font color='red'> En este ejemplo desconocemos el diámetro del impulso, por lo que simplemente supondremos díametro unitario. </font> Notar que esta suposición no afectará nuestros resultados siempre y cuando el díametro del impulsor contra el cual será comparado sea idéntico al utilizado en nuestros experimentos"
   ]
  },
  {
   "cell_type": "code",
   "execution_count": 8,
   "id": "1890bdb8-0cf4-404b-83c0-d6fe9817c12b",
   "metadata": {},
   "outputs": [],
   "source": [
    "#Información del sistema\n",
    "omega = 800/60 # revoluciones por segundo\n",
    "rho   = 1000 # kg/m3\n",
    "D     = 1 #m "
   ]
  },
  {
   "cell_type": "code",
   "execution_count": 9,
   "id": "7657a113-ba16-4c38-99bd-a4d3d01e9ca4",
   "metadata": {},
   "outputs": [],
   "source": [
    "#Cálculo grupos adimensionales\n",
    "\n",
    "Pi1 = np.divide(dp,(omega**2*D**2*rho))\n",
    "Pi2 = np.divide(Q,(omega*D**3))\n"
   ]
  },
  {
   "cell_type": "code",
   "execution_count": 10,
   "id": "d89932c5-4965-4b4a-b579-30dcb8d78915",
   "metadata": {},
   "outputs": [
    {
     "data": {
      "image/png": "[encoded data removed]",
      "text/plain": [
       "<Figure size 450x450 with 1 Axes>"
      ]
     },
     "metadata": {
      "needs_background": "light"
     },
     "output_type": "display_data"
    }
   ],
   "source": [
    "fig=plt.figure(figsize=(3,3),dpi=150)\n",
    "ax= fig.add_subplot(111)\n",
    "\n",
    "ax.set_xlabel(r'$\\Pi_2$',fontsize=18)\n",
    "ax.set_ylabel(r'$\\Pi_1$',fontsize=18)\n",
    "ax.plot(Pi2,Pi1,'.')\n",
    "plt.savefig('Pi2vPi1.png')\n"
   ]
  },
  {
   "cell_type": "markdown",
   "id": "835644fe-b7a6-4c46-9a5e-56b4d7001599",
   "metadata": {},
   "source": [
    "<h3>\n",
    "    <b> Parte 3 </b> </h3>\n",
    "\n",
    "Realíce un análisis numérico de las curvas y basado en este análisis genere y grafique datos para diferencia de presión vs. flujo volumétrico para velocidades del propulsor de $600$\\,rpm y $1200$\\,rpm."
   ]
  },
  {
   "cell_type": "markdown",
   "id": "f4898f3c-72bc-4075-98d9-75686364198a",
   "metadata": {},
   "source": [
    "Extrapolaremos nuestros resultados primero determinando la funcionalidad entre los grupos adimensionales determinados. Para esto realizaremos un ajuste polinómico a los datos tabulados.\n",
    "\n",
    "$$\\Pi_1 = a \\Pi_2^2 + b\\Pi_2 + c$$"
   ]
  },
  {
   "cell_type": "code",
   "execution_count": 11,
   "id": "8ce75fa5-f8e0-4a64-99dc-fe068213fc07",
   "metadata": {},
   "outputs": [
    {
     "data": {
      "text/latex": [
       "$\\displaystyle \\Pi_1 = (-2.03e-02)\\,\\Pi_2^2+(2.22e-03)\\,\\Pi_2+(2.01e-03)$"
      ],
      "text/plain": [
       "<IPython.core.display.Math object>"
      ]
     },
     "metadata": {},
     "output_type": "display_data"
    }
   ],
   "source": [
    "from scipy import optimize\n",
    "\n",
    "def fitfunc(x,a,b,c):\n",
    "    return a*x**2+b*x+c\n",
    "\n",
    "popt,pcov=optimize.curve_fit(fitfunc,Pi2,Pi1) ; \n",
    "\n",
    "display(Math(r'$\\Pi_1 = (%4.2e)\\,\\Pi_2^2+(%4.2e)\\,\\Pi_2+(%4.2e)$'%(popt[0],popt[1],popt[2])))"
   ]
  },
  {
   "cell_type": "code",
   "execution_count": 12,
   "id": "3ac5a350-9a4e-427c-a0e6-17b3705bd3e0",
   "metadata": {},
   "outputs": [
    {
     "data": {
      "image/png": "[encoded data removed]",
      "text/plain": [
       "<Figure size 450x450 with 1 Axes>"
      ]
     },
     "metadata": {
      "needs_background": "light"
     },
     "output_type": "display_data"
    }
   ],
   "source": [
    "fig=plt.figure(figsize=(3,3),dpi=150)\n",
    "ax= fig.add_subplot(111)\n",
    "\n",
    "x = np.linspace(min(Pi2),max(Pi2),10000)\n",
    "y = fitfunc(x,*popt)\n",
    "\n",
    "ax.set_xlabel(r'$\\Pi_2$',fontsize=18)\n",
    "ax.set_ylabel(r'$\\Pi_1$',fontsize=18)\n",
    "ax.plot(Pi2,Pi1,'.')\n",
    "ax.plot(x,y)\n",
    "plt.savefig('Pi2vPi1_fit.png')"
   ]
  },
  {
   "cell_type": "markdown",
   "id": "2535615a-8e92-4aaf-a078-dec03dc24e7e",
   "metadata": {},
   "source": [
    "Conocida la funcionalidad entre $\\Pi_1$ y $\\Pi_2$, podremos determinar las curvas requeridas:\n",
    "\n",
    "$$\\Pi_{2}=\\frac{Q}{\\omega D^{3}} \\Rightarrow Q=\\Pi_{2} \\omega D^{3}$$\n",
    "$$\\Pi_{1}=\\frac{\\Delta p}{\\omega^{2} D^{2} \\rho} \\Rightarrow \\Delta p=\\Pi_{1}  \\omega^{2} D^{2} \\rho$$\n",
    "\n",
    "con $\\Pi_1 = f(\\Pi_2)$, donde $f$ fue aproximada mediante un ajuste polinomial"
   ]
  },
  {
   "cell_type": "code",
   "execution_count": 13,
   "id": "0e2db515-9f35-4e54-aa17-7b182c47e44a",
   "metadata": {},
   "outputs": [],
   "source": [
    "def dp_extra(Q,omega,D,rho,popt):\n",
    "    pi = Q/(omega*D**3)\n",
    "    return omega**2*D**2*rho*(popt[2]+pi*popt[1]+pi**2*popt[0])\n",
    "\n",
    "## 600 rpm\n",
    "omega2 = 600/60 # revoluciones por segundo\n",
    "D2     = 1\n",
    "Q2     = np.linspace(0,5,100)\n",
    "rho2   = 1000 # kg/m3\n",
    "dp2    = dp_extra(Q2,omega2,D2,rho2,popt)\n",
    "\n",
    "\n",
    "## 800 rpm <- velocidad original\n",
    "omega1  = 800/60 # revoluciones por segundo\n",
    "D1      = 1\n",
    "Q1      = np.linspace(0,5,100)\n",
    "rho1    = 1000 # kg/m3\n",
    "dp1     = dp_extra(Q1,omega1,D1,rho1,popt)\n",
    "\n",
    "\n",
    "## 1200 rpm\n",
    "omega3 = 1200/60 # revoluciones por segundo\n",
    "D3     = 1\n",
    "Q3     = np.linspace(0,5,100)\n",
    "rho3   = 1000 # kg/m3\n",
    "dp3    = dp_extra(Q3,omega3,D3,rho3,popt)\n"
   ]
  },
  {
   "cell_type": "code",
   "execution_count": 14,
   "id": "a4b81814-2de1-4bff-8154-b012f51730bc",
   "metadata": {},
   "outputs": [
    {
     "data": {
      "image/png": "[encoded data removed]",
      "text/plain": [
       "<Figure size 450x450 with 1 Axes>"
      ]
     },
     "metadata": {
      "needs_background": "light"
     },
     "output_type": "display_data"
    }
   ],
   "source": [
    "fig=plt.figure(figsize=(3,3),dpi=150)\n",
    "ax= fig.add_subplot(111)\n",
    "\n",
    "\n",
    "ax.set_xlabel('Q (m$^3$/s)',fontsize=18)\n",
    "ax.set_ylabel('$\\Delta$ p (Pa)',fontsize=18)\n",
    "\n",
    "ax.plot(Q,dp,'.r')\n",
    "ax.plot(Q2,dp2,'-b',label='600 rpm')\n",
    "ax.plot(Q1,dp1,'-r',label='800 rpm')\n",
    "ax.plot(Q3,dp3,'-g',label='1200 rpm')\n",
    "\n",
    "ax.legend(loc='best',fontsize=8)\n",
    "plt.savefig('pi2pi1_ex.png')"
   ]
  }
 ],
 "metadata": {
  "kernelspec": {
   "display_name": "Python 3",
   "language": "python",
   "name": "python3"
  },
  "language_info": {
   "codemirror_mode": {
    "name": "ipython",
    "version": 3
   },
   "file_extension": ".py",
   "mimetype": "text/x-python",
   "name": "python",
   "nbconvert_exporter": "python",
   "pygments_lexer": "ipython3",
   "version": "3.8.8"
  }
 },
 "nbformat": 4,
 "nbformat_minor": 5
}
