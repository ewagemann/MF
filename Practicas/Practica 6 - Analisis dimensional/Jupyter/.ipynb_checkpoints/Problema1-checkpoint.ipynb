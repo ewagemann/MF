{
 "cells": [
  {
   "cell_type": "markdown",
   "id": "9aa06309-07b5-4358-8840-278f511e0514",
   "metadata": {},
   "source": [
    "<h1> Problema 1 </h1>\n",
    "\n",
    "Experimentos han demostrado que la caida de presión para el flujo a través del orificio de diametro $d$ en una placa montada en una tuberia de diametro $D$ puede ser expresada como: $\\Delta p = p_1 - p_2 = f(\\rho,\\mu,\\bar{V},d,D)$. Se le encomienda realizar algunos experimentos para determinar esta relación. Obtenga los grupos adimensionales resultantes."
   ]
  },
  {
   "cell_type": "markdown",
   "id": "a97828ad-5a28-4381-a55b-b71e2d28befb",
   "metadata": {
    "tags": []
   },
   "source": [
    "<br>\n",
    "<b> Solución <b>\n",
    "    \n",
    "    "
   ]
  },
  {
   "cell_type": "markdown",
   "id": "a5299ce5-4c07-4784-8688-8a9d80c94912",
   "metadata": {
    "tags": []
   },
   "source": [
    "Iniciamos nuestro análisis recordando los pasos básicos a seguir:\n",
    "\n",
    "\n",
    "<img src=\"pasos.png\" alt=\"Drawing\" style=\"width: 300px;\" aling=\"center\"/>"
   ]
  },
  {
   "cell_type": "markdown",
   "id": "72aa48e3-f1a9-40d7-8324-3aa9d9944702",
   "metadata": {},
   "source": [
    "</br>\n",
    "<b>Paso 1: Contar y listar variables importantes.</b>\n",
    "\n",
    "En este ejemplo, las variables a considerar son:\n",
    "- $\\Delta p$ \n",
    "- $\\rho$\n",
    "- $\\mu$\n",
    "- $V$\n",
    "- $d$\n",
    "- $D$\n",
    "\n",
    "Deseamos determinar una expresión que permita relacionar la caida de presión $\\Delta p$ con el resto de las variables. Entonces, expresaremos la caida de presión como una función de las otras variables:\n",
    "\n",
    "\n",
    "$$\n",
    "\\Delta p=f(\\rho, \\mu, {V}, d, D)\n",
    "$$\n",
    "\n",
    "El numero de variables en este caso corresponde a $n=6$ con $\\Delta p$ variable dependiente"
   ]
  },
  {
   "cell_type": "markdown",
   "id": "0db1fcb6-ca1d-460f-919f-63a649c3b027",
   "metadata": {},
   "source": [
    "<br>\n",
    "<b> Paso 2: Seleccionar dimensiones primerias </b>\n",
    "\n",
    "Seleccionaremos como dimensiones primarias masa, longitud, tiempo y temperatura (MLtT). Ya que las dimensiones de ninguna de las variables involucradas en este problema considera temperatura (T), nos limitaremos a analizar las dimensiones MLt"
   ]
  },
  {
   "cell_type": "markdown",
   "id": "56003aa3-60d8-491a-ae45-ec19b0933c87",
   "metadata": {},
   "source": [
    "<br>\n",
    "<b> Paso 3: Listar dimensiones </b>\n",
    "\n",
    "A continuación se presenta una tabla con las dimensiones de cada variable involucrada en este problema:\n",
    "\n",
    "$$\n",
    "\\begin{array}{c|cccccc} \n",
    "& \\Delta p & \\rho & \\mu & {V} & d & D \\\\\n",
    "\\hline \n",
    "M & 1 & 1 & 1 & 0 & 0 & 0 \\\\\n",
    "L & -1 & -3 & -1 & 1 & 1 & 1 \\\\\n",
    "t & -2 & 0 & -1 & -1 & 0 & 0\n",
    "\\end{array}\n",
    "$$"
   ]
  },
  {
   "cell_type": "markdown",
   "id": "b5193408-40e8-4987-9c1b-9649402a96c5",
   "metadata": {},
   "source": [
    "<br>\n",
    "<b>Paso 4: Determinar $j$ </b>\n",
    "\n",
    "Para determinar $j$ deberemos  calcular el rango de la matriz dimensional $\\textbf{D}$, la cual puede ser obtenida al transformar la tabla de dimensiones en una matriz: \n",
    "\n",
    "$$\n",
    "\\textbf{D}=\\begin{bmatrix}\n",
    "1 & 1 & \\color{red}{1} & \\color{red}{0} & \\color{red}{0} & 0 \\\\\n",
    "-1 & -3 & \\color{red}{-1} & \\color{red}{1} & \\color{red}{1} & 1 \\\\\n",
    "-2 & 0 & \\color{red}{-1} & \\color{red}{-1} & \\color{red}{0} & 0\n",
    "\\end{bmatrix}\n",
    "$$\n",
    "\n",
    "El rango de la matriz $\\textbf{D}$ corresponde al <b style=color:red>mayor orden de la submatriz cuyo determinante sea distinto a cero</b>\n",
    "\n",
    "En este caso, al seleccionar la submatriz cuyos elementos son presentados en rojo:\n",
    "\n",
    "$$\n",
    "\\left|\\begin{array}{ccc}\n",
    "1 & 0 & 0 \\\\\n",
    "-1 & 1 & 1 \\\\\n",
    "-1 & -1 & 0\n",
    "\\end{array}\\right|=1 \\neq 0\n",
    "$$\n",
    "\n",
    "la cual corresponde a una matriz de orden $3$, por lo que:\n",
    "\n",
    "$$j=3$$\n",
    "\n",
    "Una vez determinado $j$ podremos definir el número de grupos adimencionales $k$ que se requiere determinar:\n",
    "\n",
    "$$k=n-j = 6-3= 3$$\n",
    "\n",
    "Es decir, deberemos generar dos grupos adimensionales (considerando tres variables de repetición)"
   ]
  },
  {
   "cell_type": "code",
   "execution_count": 1,
   "id": "483f27dd-2a32-460b-9fff-1981bf99400e",
   "metadata": {},
   "outputs": [
    {
     "data": {
      "text/latex": [
       "$\\displaystyle rank(\\textbf{D})=3$"
      ],
      "text/plain": [
       "<IPython.core.display.Math object>"
      ]
     },
     "metadata": {},
     "output_type": "display_data"
    }
   ],
   "source": [
    "from IPython.display import Math, Latex, display\n",
    "import numpy as np\n",
    "\n",
    "D = [[1,1,1,0,0,0],[-1,-3,-1,1,1,1],[-2,0,-1,-1,0,0]]\n",
    "rankD = np.linalg.matrix_rank(D)\n",
    "display(Math(r'$rank(\\textbf{D})=%d$'%int(rankD)))"
   ]
  },
  {
   "cell_type": "markdown",
   "id": "6214b9f4-9b34-445c-a994-03697c1c9946",
   "metadata": {},
   "source": [
    "<br>\n",
    "<b> Paso 5: Seleccionar variables de repetición </b>\n",
    "\n",
    "Con tal de seleccionar las variables de repetición, deberemos considerar:\n",
    "\n",
    "- $\\Delta p$ es la variable dependiente, por lo que no podremos seleccionarla como variable de repetición (en caso contrario aparecerá en todos los grupos adimensionales)\n",
    "- $d$ y $D$ poseen las mismas dimensiones (L), por lo que si seleccionamos una de estas variables como variable de repetición, no podremos seleccionar también la otra.\n",
    "\n",
    "De esta forma, nuestras alternativas para seleccionar las variables de repetición se reducen a:\n",
    "\n",
    "- $\\mu$\n",
    "- $V$\n",
    "- $\\rho$\n",
    "- $d$ o $D$\n",
    "\n"
   ]
  },
  {
   "cell_type": "markdown",
   "id": "331de6f6-e104-4f5d-8873-91d452d25e4d",
   "metadata": {},
   "source": [
    "Al momento de seleccionar las variables de repetición deberemos asegurarnos que cada dimensión (en este problema M, L y t) tenga asignada una variable de repetición. Además, si una variable fue seleccioanda como de repetición y esta fue asociada a una dimensión, no podrá ser seleccionada nuevamente como variable de repetición para otra dimensión (en este caso deberemos seleccionar tres variables de repetición distintas).\n",
    "\n"
   ]
  },
  {
   "cell_type": "markdown",
   "id": "3b86d912-e1f2-4b6e-804e-beb750416197",
   "metadata": {},
   "source": [
    "El proceso de selección puede ser facilitado al listar las dimensiones del problema y los posibles candidatos que contengan esta dimensión:\n",
    "\n",
    "Masa (M):\n",
    "- $\\mu$\n",
    "- $\\rho$ &#10004; \n",
    "\n",
    "Longitud (L):\n",
    "- $\\mu$\n",
    "- $\\rho$\n",
    "- $d$ o $D$ &#10004; \n",
    "\n",
    "tiempo:\n",
    "\n",
    "- $\\mu$\n",
    "- $V$ &#10004; \n",
    "\n",
    "Seleccionaremos:\n",
    "\n",
    "$\\rho$, $D$ y $V$\n",
    "\n"
   ]
  },
  {
   "cell_type": "markdown",
   "id": "4b5a1a7e-6f87-49de-a370-c76cb8cec65a",
   "metadata": {},
   "source": [
    "Ya habiendo realizado nuestra selección, deberemos asegurarnos que estas no formen un grupo adimensional al ser multiplicadas (independientemente de la potencia a la cual estas estén elevadas).\n",
    "​\n",
    "$$\n",
    "\\left\\{\\rho\\right\\}^{a}\\left\\{V\\right\\}^{b}\\{D\\}^{c} =\\left\\{\\frac{M}{L^{3}}\\right\\}^{a}\\left\\{\\frac{L}{T}\\right\\}^{b}\\{L\\}^{c}\\stackrel{?}{=} \\{-\\}\n",
    "$$\n",
    "​\n",
    "En este caso, la respuesta a esta interrogante es sencilla: los parámetros seleccionados no forman un grupo adimensional ya que la única variable que posee dimensión temporal corresponde a la velocidad. De igual forma, podemos probar esto al intentar formar un grupo adimensional con estas variables:\n",
    "​\n",
    "$$\\Pi=\\rho^a V^b D^c \\rightarrow \\left(\\frac{M}{L^3}\\right)^a \\left(\\frac{L}{t}\\right)^b \\left(L\\right)^c = M^0 L^0t^0$$ \n",
    "​\n",
    "El sistema de ecuaciones relacionado a este problema es:\n",
    "​\n",
    "$$\n",
    "\\begin{aligned}\n",
    "&M: \\qquad &a&=0 \\\\\n",
    "&L:\\qquad &-3 a+b+c&=0 \\\\\n",
    "&t:\\qquad &-b&=0\n",
    "\\end{aligned}\n",
    "$$\n",
    "​\n",
    "Expresado de forma vectorial:\n",
    "​\n",
    "$$\\textbf{A}\\textbf{x}=\\textbf{b}$$\n",
    "​\n",
    "$$\n",
    "\\begin{bmatrix} \n",
    "1 & 0 & 0 \\\\ -3 &1 & 1 \\\\ 0 & -1 & 0\n",
    "\\end{bmatrix}\n",
    "\\begin{bmatrix} \n",
    "a \\\\ b \\\\ c\n",
    "\\end{bmatrix}\n",
    "= \n",
    "\\begin{bmatrix} \n",
    "0\\\\ 0 \\\\ 0\n",
    "\\end{bmatrix}\n",
    "$$\n",
    "​\n",
    "Que poseerá solución no trivial ($a=0$, $b=0$, $c=0$) solo si:\n",
    "​\n",
    "$$\\det{\\textbf{A}}= 0$$"
   ]
  },
  {
   "cell_type": "code",
   "execution_count": 2,
   "id": "88af3cdb-58fa-4a71-8a4b-3949a327e47b",
   "metadata": {},
   "outputs": [
    {
     "data": {
      "text/latex": [
       "$\\displaystyle \\det{\\mathbf{A}}=1.00 \\neq 0 $"
      ],
      "text/plain": [
       "<IPython.core.display.Math object>"
      ]
     },
     "metadata": {},
     "output_type": "display_data"
    }
   ],
   "source": [
    "A = [[1,0,0],[-3,1,1],[0,-1,0]]\n",
    "detA = np.linalg.det(A)\n",
    "display(Math(r'$\\det{\\mathbf{A}}=%4.2f \\neq 0 $'%detA))"
   ]
  },
  {
   "cell_type": "markdown",
   "id": "a0256ce1-d867-45d7-baf4-8ade0f649f83",
   "metadata": {},
   "source": [
    "De esta forma, comprobamos que los parámetros seleccionados no forman un grupo adimensional"
   ]
  },
  {
   "cell_type": "markdown",
   "id": "6b2993f1-c3c3-430c-acd3-85c7de90746d",
   "metadata": {},
   "source": [
    "<br>\n",
    "<b> Paso 6: Armar y resolver ecuaciones dimensionales </b>\n",
    "\n",
    "Para cada uno de los tres grupos adimensionales que deberemos generar, crearemos un sistemas de ecuaciones en base a que:\n",
    "- El grupo adimensional se generara mediante la multiplicación de uno de los parámetros que no fue seleccionado como variable de repetición y las variables de repetición. \n",
    "- Cada variable de repetición será elevada a una potencia cuyo valor deberemos determinar\n",
    "- El producto obtenido ha de carecer de dimensiones"
   ]
  },
  {
   "cell_type": "markdown",
   "id": "b1b3bfaa-13b1-4372-9571-61585a92498f",
   "metadata": {},
   "source": [
    "<br>\n",
    "\n",
    "Grupo adimensional $\\Pi_1$:\n",
    "\n",
    "$$\n",
    "\\Pi_{1}=(\\Delta p) V^{a} \\rho^{b} D^{c} \\Rightarrow\\left(\\frac{M}{L t^{2}}\\right)\\left(\\frac{L}{t}\\right)^{a}\\left(\\frac{M}{L^{3}}\\right)^{b}(L)^{c}= M^{0} L^{0} T^{0}\n",
    "$$\n",
    "\n",
    "Lo cual solo se cumplirá si:\n",
    "\n",
    "$$\n",
    "\\begin{aligned}\n",
    "&M: \\quad& 1+b&=0 \\\\\n",
    "&L: \\quad&-1+a-3 b+c&=0 \\\\\n",
    "&t: \\quad&-2-a&=0\n",
    "\\end{aligned}\n",
    "$$\n",
    "En notación vectorial:\n",
    "\n",
    "$$\n",
    "\\left[\\begin{array}{ccc}\n",
    "0 & 1 & 0 \\\\\n",
    "1 & -3 & 1 \\\\\n",
    "-1 & 0 & 0\n",
    "\\end{array}\\right]\\left[\\begin{array}{l}\n",
    "a \\\\\n",
    "b \\\\\n",
    "c\n",
    "\\end{array}\\right]=\\left[\\begin{array}{r}\n",
    "-1 \\\\\n",
    "1 \\\\\n",
    "2\n",
    "\\end{array}\\right]\n",
    "$$"
   ]
  },
  {
   "cell_type": "code",
   "execution_count": 3,
   "id": "6fb3eabb-3420-41c1-806a-a15c51d07ecb",
   "metadata": {},
   "outputs": [
    {
     "data": {
      "text/latex": [
       "$\\displaystyle \\begin{bmatrix} a \\\\ b \\\\ c \\end{bmatrix} = \\begin{bmatrix} -1 \\\\ -1 \\\\ 0 \\end{bmatrix}$"
      ],
      "text/plain": [
       "<IPython.core.display.Math object>"
      ]
     },
     "metadata": {},
     "output_type": "display_data"
    }
   ],
   "source": [
    "A = [[0,1,0],[1,-3,1],[-1,0,0]]\n",
    "b = [-1,1,2]\n",
    "x = np.linalg.solve(A,b)\n",
    "\n",
    "display(Math(r'$\\begin{bmatrix} a \\\\ b \\\\ c \\end{bmatrix} = \\begin{bmatrix} %d \\\\ %d \\\\ %d \\end{bmatrix}$'\n",
    "             %(int(x[0]),int(x[1]),int(x[2]))))"
   ]
  },
  {
   "cell_type": "markdown",
   "id": "c315c316-ec8e-44b0-9559-517c11b4291c",
   "metadata": {},
   "source": [
    "De esta forma:\n",
    "\n",
    "$$\n",
    "\\Pi_{1}=\\frac{\\Delta P}{\\rho V^{2}}\n",
    "$$\n",
    "el cual podemos modificar multiplicando por un factor de $2$:\n",
    "\n",
    "$$\n",
    "\\Pi_{1}=2 \\frac{\\Delta P}{\\rho V^{2}} = \\frac{\\Delta P}{\\frac{1}{2}\\rho V^{2}} = C_p\n",
    "$$\n"
   ]
  },
  {
   "cell_type": "markdown",
   "id": "f3ffa971-7415-48c1-a4d1-483de61088c1",
   "metadata": {},
   "source": [
    "<br>\n",
    "\n",
    "Grupo adimensional $\\Pi_2$:\n",
    "\n",
    "$$\n",
    "\\Pi_{1}=(\\mu) V^{a} \\rho^{b} D^{c} \\Rightarrow\\left(\\frac{M}{L t}\\right)\\left(\\frac{L}{t}\\right)^{a}\\left(\\frac{M}{L^{3}}\\right)^{b}(L)^{c}= M^{0} L^{0} T^{0}\n",
    "$$\n",
    "\n",
    "Lo cual solo se cumplirá si:\n",
    "\n",
    "$$\n",
    "\\begin{aligned}\n",
    "&M: \\quad& 1+b&=0 \\\\\n",
    "&L: \\quad&-1+a-3 b+c&=0 \\\\\n",
    "&t: \\quad&-1-a&=0\n",
    "\\end{aligned}\n",
    "$$\n",
    "En notación vectorial:\n",
    "\n",
    "$$\n",
    "\\left[\\begin{array}{ccc}\n",
    "0 & 1 & 0 \\\\\n",
    "1 & -3 & 1 \\\\\n",
    "-1 & 0 & 0\n",
    "\\end{array}\\right]\\left[\\begin{array}{l}\n",
    "a \\\\\n",
    "b \\\\\n",
    "c\n",
    "\\end{array}\\right]=\\left[\\begin{array}{r}\n",
    "-1 \\\\\n",
    "1 \\\\\n",
    "1\n",
    "\\end{array}\\right]\n",
    "$$"
   ]
  },
  {
   "cell_type": "code",
   "execution_count": 4,
   "id": "6d6316bc-88f1-4c8b-92d6-eb0c454f6c11",
   "metadata": {},
   "outputs": [
    {
     "data": {
      "text/latex": [
       "$\\displaystyle \\begin{bmatrix} a \\\\ b \\\\ c \\end{bmatrix} = \\begin{bmatrix} -1 \\\\ -1 \\\\ -1 \\end{bmatrix}$"
      ],
      "text/plain": [
       "<IPython.core.display.Math object>"
      ]
     },
     "metadata": {},
     "output_type": "display_data"
    }
   ],
   "source": [
    "A = [[0,1,0],[1,-3,1],[-1,0,0]]\n",
    "b = [-1,1,1]\n",
    "x = np.linalg.solve(A,b)\n",
    "\n",
    "display(Math(r'$\\begin{bmatrix} a \\\\ b \\\\ c \\end{bmatrix} = \\begin{bmatrix} %d \\\\ %d \\\\ %d \\end{bmatrix}$'\n",
    "             %(int(x[0]),int(x[1]),int(x[2]))))"
   ]
  },
  {
   "cell_type": "markdown",
   "id": "94d53a4c-2afd-4338-b710-74490a7bd275",
   "metadata": {},
   "source": [
    "De esta forma:\n",
    "\n",
    "$$\n",
    "\\Pi_{2}=\\frac{\\mu}{\\rho V D} = \\operatorname{Re}^{-1}\n",
    "$$\n",
    "\n",
    "Ya que $\\Pi_2$ corresponde a $\\operatorname{Re}^{-1}$ podemos modificar nuestro resultado y simplemente definir:\n",
    "\n",
    "$$\\Pi_2 = Re = \\frac{\\rho  V D}{\\mu}$$"
   ]
  },
  {
   "cell_type": "markdown",
   "id": "7da224c3-8a80-49cc-ae50-701717ac4059",
   "metadata": {},
   "source": [
    "<br>\n",
    "\n",
    "Grupo adimensional $\\Pi_3$:\n",
    "\n",
    "$$\n",
    "\\Pi_{3}=(d) V^{a} \\rho^{b} D^{c} \\Rightarrow\\left(L\\right)\\left(\\frac{L}{t}\\right)^{a}\\left(\\frac{M}{L^{3}}\\right)^{b}(L)^{c}= M^{0} L^{0} T^{0}\n",
    "$$\n",
    "\n",
    "Lo cual solo se cumplirá si:\n",
    "\n",
    "$$\n",
    "\\begin{aligned}\n",
    "&M: \\quad& 0+b&=0 \\\\\n",
    "&L: \\quad&-1+a-3 b+c&=0 \\\\\n",
    "&t: \\quad& 0-a&=0\n",
    "\\end{aligned}\n",
    "$$\n",
    "En notación vectorial:\n",
    "\n",
    "$$\n",
    "\\left[\\begin{array}{ccc}\n",
    "0 & 1 & 0 \\\\\n",
    "1 & -3 & 1 \\\\\n",
    "-1 & 0 & 0\n",
    "\\end{array}\\right]\\left[\\begin{array}{l}\n",
    "a \\\\\n",
    "b \\\\\n",
    "c\n",
    "\\end{array}\\right]=\\left[\\begin{array}{r}\n",
    "0 \\\\\n",
    "1 \\\\\n",
    "0\n",
    "\\end{array}\\right]\n",
    "$$"
   ]
  },
  {
   "cell_type": "code",
   "execution_count": 5,
   "id": "e4c07b9a-a1bb-4fa0-8e06-2f55990ec593",
   "metadata": {},
   "outputs": [
    {
     "data": {
      "text/latex": [
       "$\\displaystyle \\begin{bmatrix} a \\\\ b \\\\ c \\end{bmatrix} = \\begin{bmatrix} 0 \\\\ 0 \\\\ 1 \\end{bmatrix}$"
      ],
      "text/plain": [
       "<IPython.core.display.Math object>"
      ]
     },
     "metadata": {},
     "output_type": "display_data"
    }
   ],
   "source": [
    "A = [[0,1,0],[1,-3,1],[-1,0,0]]\n",
    "b = [0,1,0]\n",
    "x = np.linalg.solve(A,b)\n",
    "\n",
    "display(Math(r'$\\begin{bmatrix} a \\\\ b \\\\ c \\end{bmatrix} = \\begin{bmatrix} %d \\\\ %d \\\\ %d \\end{bmatrix}$'\n",
    "             %(int(x[0]),int(x[1]),int(x[2]))))"
   ]
  },
  {
   "cell_type": "markdown",
   "id": "cdbbc2e0-7ee9-4014-8568-db74c41b5762",
   "metadata": {},
   "source": [
    "Es decir:\n",
    "\n",
    "$$\\Pi_3 = \\frac{d}{D}$$\n",
    "\n",
    "Notar que la solución de este sistema es simple y no requiere el procedimiento presentado ($d$ y $D$ poseen las mismas dimensiones, por lo que este sistema de ecuaciones de vuelve trivial)"
   ]
  },
  {
   "cell_type": "markdown",
   "id": "79e49000-a7fc-47d4-8884-091b737ce97f",
   "metadata": {},
   "source": [
    "<br> \n",
    "<b>Paso 7: Verificar y presentar información</b>\n",
    "\n",
    "Verificación:\n",
    "\n",
    "$\\Pi_1 = C_p$, con $C_p$ un grupo <b>adimensional</b> de importancia para la mecánica de fluidos &#10004; \n",
    "\n",
    "$\\Pi_2 = \\operatorname{Re}$, con $\\operatorname{Re}$ un grupo <b>adimensional</b> de importancia para la mecánica de fluidos &#10004; \n",
    "\n",
    "$\\{\\Pi_3\\} =\\left\\{\\frac{d}{D}\\right\\}=\\{-\\}$ &#10004; \n",
    "\n",
    "\n",
    "Ya habiendo verificado nuestros resultados, los presentamos en su forma funcional:\n",
    "\n",
    "$$\n",
    "\\Pi_{1}=f\\left(\\Pi_{2}, \\Pi_{3}\\right)\n",
    "$$\n",
    "\n",
    "$$\n",
    "\\frac{\\Delta p}{\\frac{1}{2} \\rho {V}^{2}}=f\\left( \\frac{\\rho V D}{\\mu}, \\frac{d}{D}\\right)\n",
    "$$\n",
    "\n",
    "$$\n",
    "C_{p}=f\\left(\\operatorname{Re}, \\frac{d}{D}\\right)\n",
    "$$"
   ]
  }
 ],
 "metadata": {
  "kernelspec": {
   "display_name": "Python 3",
   "language": "python",
   "name": "python3"
  },
  "language_info": {
   "codemirror_mode": {
    "name": "ipython",
    "version": 3
   },
   "file_extension": ".py",
   "mimetype": "text/x-python",
   "name": "python",
   "nbconvert_exporter": "python",
   "pygments_lexer": "ipython3",
   "version": "3.8.8"
  }
 },
 "nbformat": 4,
 "nbformat_minor": 5
}
