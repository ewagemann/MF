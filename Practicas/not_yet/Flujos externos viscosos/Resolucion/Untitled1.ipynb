{
 "cells": [
  {
   "cell_type": "code",
   "execution_count": 1,
   "id": "33ee5578",
   "metadata": {},
   "outputs": [],
   "source": [
    "import numpy as np"
   ]
  },
  {
   "cell_type": "code",
   "execution_count": 8,
   "id": "d4f77a35",
   "metadata": {},
   "outputs": [
    {
     "data": {
      "text/plain": [
       "500000.0"
      ]
     },
     "execution_count": 8,
     "metadata": {},
     "output_type": "execute_result"
    }
   ],
   "source": [
    "mu = 10**-3 #Pa.s\n",
    "rho = 10**3 # kg/m3\n",
    "D = 0.5 # m\n",
    "\n",
    "Ve = 4/3*(D/2)**3*np.pi\n",
    "Ae = np.pi/4*D**2\n",
    "\n",
    "gammaw = 9.81 # kPa/m \n",
    "SGe = 1.05 \n",
    "\n",
    "Fb = Ve*gammaw\n",
    "W = Ve*SGe*gammaw\n",
    "\n",
    "def Re(U):\n",
    "    return rho*D*U/mu\n"
   ]
  },
  {
   "cell_type": "code",
   "execution_count": null,
   "id": "f76224a5",
   "metadata": {},
   "outputs": [],
   "source": []
  }
 ],
 "metadata": {
  "kernelspec": {
   "display_name": "Python 3 (ipykernel)",
   "language": "python",
   "name": "python3"
  },
  "language_info": {
   "codemirror_mode": {
    "name": "ipython",
    "version": 3
   },
   "file_extension": ".py",
   "mimetype": "text/x-python",
   "name": "python",
   "nbconvert_exporter": "python",
   "pygments_lexer": "ipython3",
   "version": "3.8.10"
  }
 },
 "nbformat": 4,
 "nbformat_minor": 5
}
