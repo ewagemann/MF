{
 "cells": [
  {
   "cell_type": "code",
   "execution_count": 1,
   "metadata": {},
   "outputs": [],
   "source": [
    "import numpy as np\n",
    "ft2m=0.3048"
   ]
  },
  {
   "cell_type": "code",
   "execution_count": 12,
   "metadata": {},
   "outputs": [
    {
     "name": "stdout",
     "output_type": "stream",
     "text": [
      "phi = 2.04e-03  N/m**0.5\n",
      "FD_A = 9.90e-04  N\n",
      "FD_B = 1.98e-03  N\n"
     ]
    }
   ],
   "source": [
    "rho = 1.2 #kg/m3\n",
    "U=15*ft2m #m/s\n",
    "mu=1.82*19**-5 #Pa.s\n",
    "W= 2*ft2m #m\n",
    "L=np.sin(np.pi/3.0)*2*ft2m\n",
    "phi=0.730/2*rho**0.5*U**(3/2)*W*mu**0.5\n",
    "FDA=phi*L**0.5*2/3\n",
    "FDB=phi*L**0.5*4/3\n",
    "\n",
    "print('phi = %4.2e'%phi,' N/m**0.5')\n",
    "print('FD_A = %4.2e'%FDA,' N')\n",
    "print('FD_B = %4.2e'%FDB,' N')\n"
   ]
  },
  {
   "cell_type": "code",
   "execution_count": 13,
   "metadata": {},
   "outputs": [],
   "source": [
    "# Problema 4\n",
    "r=75*10**-3 # m\n",
    "CD=1.2\n",
    "rho_a=1.16 # kg/m3\n",
    "rho_g=0.7*10**3 # kg/m3\n",
    "D=15*10**-3 #m\n",
    "A=np.pi*D**4/4\n",
    "FDi=0.5*CD*rho*U**2*A"
   ]
  },
  {
   "cell_type": "code",
   "execution_count": null,
   "metadata": {},
   "outputs": [],
   "source": []
  }
 ],
 "metadata": {
  "kernelspec": {
   "display_name": "Python 3 (ipykernel)",
   "language": "python",
   "name": "python3"
  },
  "language_info": {
   "codemirror_mode": {
    "name": "ipython",
    "version": 3
   },
   "file_extension": ".py",
   "mimetype": "text/x-python",
   "name": "python",
   "nbconvert_exporter": "python",
   "pygments_lexer": "ipython3",
   "version": "3.8.10"
  }
 },
 "nbformat": 4,
 "nbformat_minor": 4
}
