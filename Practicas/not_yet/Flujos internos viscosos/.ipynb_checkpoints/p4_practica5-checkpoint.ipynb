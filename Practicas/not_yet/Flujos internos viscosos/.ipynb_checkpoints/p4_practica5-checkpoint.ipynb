{
 "cells": [
  {
   "cell_type": "code",
   "execution_count": 4,
   "metadata": {},
   "outputs": [],
   "source": [
    "import numpy as np\n",
    "import scipy.optimize "
   ]
  },
  {
   "cell_type": "code",
   "execution_count": 5,
   "metadata": {},
   "outputs": [],
   "source": [
    "def cole_turb(e_d):\n",
    "    return (-2*np.log10(e_d/3.7))**-2\n",
    "\n",
    "def coleb(Re,e_d):\n",
    "    eqf = lambda f : f**-0.5+2*np.log10(e_d/3.7+2.51/Re/f**0.5)\n",
    "    ffact = scipy.optimize.newton(eqf,cole_turb(e_d))\n",
    "    return ffact\n",
    "\n",
    "# factores conversion unidades\n",
    "ft2m = 0.3048    # ft -> m\n",
    "in2m = 0.0254    # in -> m\n",
    "psi2pa = 6894.76 # psi -> Pa\n",
    "\n",
    "# Diametro interno (mm) a partir del diametro nominal (in)\n",
    "ced_40={'0'     : 0 ,\n",
    "        '1/8'   : 6.8   ,\n",
    "        '1/4'   : 9.2   ,\n",
    "        '3/8'   : 12.5  ,\n",
    "        '1/2'   : 15.8  ,\n",
    "        '3/4'   : 20.9  ,\n",
    "        '1'     : 26.6  ,\n",
    "        '1 1/4' : 35.1  ,\n",
    "        '1 1/2' : 40.9  ,\n",
    "        '2'     : 52.5  ,\n",
    "        '2 1/2' : 62.7  ,\n",
    "        '3'     : 77.9  ,\n",
    "        '3 1/2' : 90.1  ,\n",
    "        '4'     : 102.3 ,\n",
    "        '5'     : 128.2 ,\n",
    "        '6'     : 154.1 ,\n",
    "        '8'     : 202.7 ,\n",
    "        '10'    : 254.5 ,\n",
    "        '12'    : 303.2 ,\n",
    "        '14'    : 333.4 ,\n",
    "        '16'    : 381.0 ,\n",
    "        '18'    : 428.7 ,\n",
    "        '20'    : 477.9 ,\n",
    "        '24'    : 574.7        \n",
    "}"
   ]
  },
  {
   "cell_type": "code",
   "execution_count": 17,
   "metadata": {},
   "outputs": [
    {
     "name": "stdout",
     "output_type": "stream",
     "text": [
      "v_c =    4.01 m/s\n",
      "v_d =    2.53 m/s\n",
      "Q_c =  8.68e-03 m3/s\n",
      "Q_d =  5.48e-03 m3/s\n"
     ]
    }
   ],
   "source": [
    "rho = 10**3 # kg/m3\n",
    "mu = 1.38*10**-3 # Pa.s (agua 10C)\n",
    "DA = ced_40['4'] * 10**-3 # m\n",
    "DC = ced_40['2']*10**-3 #m\n",
    "DD = DC\n",
    "e = 4.6*10**-5 # m\n",
    "e_DA = e/DA\n",
    "e_DC = e/DC\n",
    "g=9.81 # m/s2\n",
    "\n",
    "QA = 850*10**-3/60 # m3 /s\n",
    "v_a = QA/(np.pi*DA**2/4)\n",
    "LC = 30 #m\n",
    "LD = 60 #m\n",
    "\n",
    "def eo(v_vect):\n",
    "    v_c = v_vect[0]\n",
    "    v_d = v_vect[1]\n",
    "    \n",
    "    Re_c = rho*v_c*DC/mu\n",
    "    Re_d = rho*v_d*DD/mu\n",
    "    52.5\n",
    "    # perdidas mayores\n",
    "    # ruta c\n",
    "    fc  = coleb(Re_c,e_DC)\n",
    "    hlc = fc*LC/DC*v_c**2/2/g\n",
    "\n",
    "    #ruta d\n",
    "    fd  = coleb(Re_d,e_DC)\n",
    "    hld = fd*LD/DD*v_d**2/2/g\n",
    "    \n",
    "    # perdidas menores\n",
    "    \n",
    "    # ruta c\n",
    "    fta = cole_turb(e_DA)\n",
    "    ftc = cole_turb(e_DC)\n",
    "\n",
    "    k1c = 20*fta\n",
    "    k2c = 20*ftc\n",
    "    hlmc = v_a**2/2/g*k1c+v_c**2/2/g*k2c\n",
    "    \n",
    "    # ruta d\n",
    "    ftd = ftc\n",
    "    k1d = 60*fta\n",
    "    k2d = 30*ftd\n",
    "    k3d = 150*ftd\n",
    "    k4d = 30*ftd\n",
    "    k5d = 30*ftd\n",
    "    k6d = 60*ftd\n",
    "    hlmd = v_a**2/2/g*k1d + v_d**2/2/g*(k2d+k3d+k4d+k5d+k6d)\n",
    "    \n",
    "    eo1 = QA-np.pi*DC**2/4*(v_c+v_d)\n",
    "    eo2 = (hlc + hlmc) - (hld+hlmd)\n",
    "    \n",
    "    return [eo1,eo2]\n",
    "\n",
    "[vpc,vpd] = scipy.optimize.fsolve(eo,[1,1])\n",
    "\n",
    "QC = vpc*np.pi*DC**2/4\n",
    "QD = vpd*np.pi*DD**2/4\n",
    "\n",
    "print('v_c = ','%6.2f'%vpc, 'm/s')\n",
    "print('v_d = ','%6.2f'%vpd, 'm/s')\n",
    "print('Q_c = ','%6.2e'%QC,'m3/s')\n",
    "print('Q_d = ','%6.2e'%QD,'m3/s')\n"
   ]
  },
  {
   "cell_type": "code",
   "execution_count": 24,
   "metadata": {},
   "outputs": [
    {
     "name": "stdout",
     "output_type": "stream",
     "text": [
      "p_a - p_b =  99.80 kPA\n"
     ]
    }
   ],
   "source": [
    "# Parte b: presiones\n",
    "\n",
    "v_c = vpc\n",
    "    \n",
    "Re_c = rho*v_c*DC/mu\n",
    "fc  = coleb(Re_c,e_DC)\n",
    "hlc = fc*LC/DC*v_c**2/2/g\n",
    "\n",
    "fta = cole_turb(e_DA)\n",
    "ftc = cole_turb(e_DC)\n",
    "\n",
    "k1c = 20*fta\n",
    "k2c = 20*ftc\n",
    "hlmc = v_a**2/2/g*k1c+v_c**2/2/g*k2c\n",
    "\n",
    "pa_pb = rho*g*(hlc+hlmc)\n",
    "print('p_a - p_b =','%6.2f'%(pa_pb/1000),'kPA')"
   ]
  },
  {
   "cell_type": "code",
   "execution_count": null,
   "metadata": {},
   "outputs": [],
   "source": []
  }
 ],
 "metadata": {
  "kernelspec": {
   "display_name": "Python 3",
   "language": "python",
   "name": "python3"
  },
  "language_info": {
   "codemirror_mode": {
    "name": "ipython",
    "version": 3
   },
   "file_extension": ".py",
   "mimetype": "text/x-python",
   "name": "python",
   "nbconvert_exporter": "python",
   "pygments_lexer": "ipython3",
   "version": "3.7.6"
  }
 },
 "nbformat": 4,
 "nbformat_minor": 4
}
