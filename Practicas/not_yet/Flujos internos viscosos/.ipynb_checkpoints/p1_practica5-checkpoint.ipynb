{
 "cells": [
  {
   "cell_type": "code",
   "execution_count": 1,
   "metadata": {},
   "outputs": [],
   "source": [
    "import numpy as np\n",
    "import scipy.optimize\n",
    "\n",
    "def cole_turb(e_d):\n",
    "    return (-2*np.log10(e_d/3.7))**-2\n",
    "\n",
    "def coleb(Re,e_d):\n",
    "    eqf = lambda f : f**-0.5+2*np.log10(e_d/3.7+2.51/Re/f**0.5)\n",
    "    ffact = scipy.optimize.newton(eqf,cole_turb(e_d))\n",
    "    return ffact\n",
    "\n",
    "ft2m = 0.3048\n",
    "in2m = 0.0254"
   ]
  },
  {
   "cell_type": "code",
   "execution_count": 12,
   "metadata": {},
   "outputs": [
    {
     "name": "stdout",
     "output_type": "stream",
     "text": [
      "ha = 210.32 m\n",
      "W_in = 233.7 kW\n"
     ]
    }
   ],
   "source": [
    "Q=3*ft2m**3 # m3/s\n",
    "rho = 10**3\n",
    "mu = 10**-3\n",
    "D = 156*10**-3 #m\n",
    "z2=120*ft2m # m\n",
    "z1 = 0\n",
    "L = 2000*ft2m #m\n",
    "e = 2.4*10**-3 #m\n",
    "e_d = e/D\n",
    "At = np.pi*D**2/4\n",
    "v = Q/At\n",
    "g=9.81\n",
    "\n",
    "# perdidas de carga\n",
    "Re = rho*v*D/mu\n",
    "\n",
    "hl = coleb(Re,e_d)*L/D*v**2/2/g\n",
    "ha =  z2-z1+hl\n",
    "print('ha =','%4.2f'%ha,'m')\n",
    "\n",
    "etha = 0.75\n",
    "W_in = ha*Q*rho*g/etha*10**-3 # kW\n",
    "print('W_in =','%.1f'%W_in,'kW')"
   ]
  },
  {
   "cell_type": "code",
   "execution_count": null,
   "metadata": {},
   "outputs": [],
   "source": []
  }
 ],
 "metadata": {
  "kernelspec": {
   "display_name": "Python 3",
   "language": "python",
   "name": "python3"
  },
  "language_info": {
   "codemirror_mode": {
    "name": "ipython",
    "version": 3
   },
   "file_extension": ".py",
   "mimetype": "text/x-python",
   "name": "python",
   "nbconvert_exporter": "python",
   "pygments_lexer": "ipython3",
   "version": "3.7.6"
  }
 },
 "nbformat": 4,
 "nbformat_minor": 4
}
