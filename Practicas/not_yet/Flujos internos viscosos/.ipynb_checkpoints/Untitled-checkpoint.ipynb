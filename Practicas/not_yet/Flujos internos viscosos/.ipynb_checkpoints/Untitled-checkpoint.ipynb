{
 "cells": [
  {
   "cell_type": "code",
   "execution_count": 1,
   "metadata": {},
   "outputs": [],
   "source": [
    "import numpy as np\n",
    "import scipy.optimize "
   ]
  },
  {
   "cell_type": "code",
   "execution_count": 4,
   "metadata": {},
   "outputs": [],
   "source": [
    "def cole_turb(e_d):\n",
    "    return (-2*np.log10(e_d/3.7))**-2\n",
    "\n",
    "def coleb(Re,e_d):\n",
    "    eqf = lambda f : f**-0.5+2*np.log10(e_d/3.7+2.51/Re/f**0.5)\n",
    "    ffact = scipy.optimize.newton(eqf,cole_turb(e_d))\n",
    "    return ffact\n",
    "ft2m = 0.3048"
   ]
  },
  {
   "cell_type": "code",
   "execution_count": 7,
   "metadata": {},
   "outputs": [],
   "source": [
    "Di = 62.7*10**-3 # m\n",
    "At = np.pi*Di**2/4\n",
    "e = 4.6*10**-5\n",
    "e_d = e/Di\n",
    "va =1.2*ft2m**3/At # m3/s\n",
    "rho = 10**3 # km/m3\n",
    "mu = 10**-4 #Pa.s\n",
    "g = 9.81 #m/s2\n",
    "\n",
    "Lb = 50*ft2m\n",
    "Lc = 50*ft2m\n",
    "Ld = 50*ft2m\n",
    "Le = 30*ft2m\n",
    "Lf = 50*ft2m\n",
    "Lg = 30*ft2m\n",
    "\n",
    "def eo(v_vect):\n",
    "    vb = v_vect[0]\n",
    "    vc = v_vect[1]\n",
    "    vd = v_vect[2]\n",
    "    ve = v_vect[3]\n",
    "    vf = v_vect[4]\n",
    "    vg = v_vect[6]\n",
    "    \n",
    "    eo1 = va - (vb+vc)\n",
    "    eo2 = vf + 0.3*ft2m**3/At - vb - ve\n",
    "    eo3 = 0.6*ft2m**3/At - vg-vf\n",
    "    eo4 = 0.3*ft2m**3/At + vg - vd\n",
    "    eo5 = ve+vd-vc\n",
    "    \n",
    "    # perdidas de carga\n",
    "    Reb = rho"
   ]
  },
  {
   "cell_type": "code",
   "execution_count": null,
   "metadata": {},
   "outputs": [],
   "source": []
  }
 ],
 "metadata": {
  "kernelspec": {
   "display_name": "Python 3",
   "language": "python",
   "name": "python3"
  },
  "language_info": {
   "codemirror_mode": {
    "name": "ipython",
    "version": 3
   },
   "file_extension": ".py",
   "mimetype": "text/x-python",
   "name": "python",
   "nbconvert_exporter": "python",
   "pygments_lexer": "ipython3",
   "version": "3.7.6"
  }
 },
 "nbformat": 4,
 "nbformat_minor": 4
}
