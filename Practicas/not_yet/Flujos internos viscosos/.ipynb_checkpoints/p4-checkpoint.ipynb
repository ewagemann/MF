{
 "cells": [
  {
   "cell_type": "code",
   "execution_count": 1,
   "metadata": {},
   "outputs": [],
   "source": [
    "import numpy as np\n",
    "import scipy.optimize "
   ]
  },
  {
   "cell_type": "code",
   "execution_count": 2,
   "metadata": {},
   "outputs": [],
   "source": [
    "def cole_turb(e_d):\n",
    "    return (-2*np.log10(e_d/3.7))**-2\n",
    "\n",
    "def coleb(Re,e_d):\n",
    "    eqf = lambda f : f**-0.5+2*np.log10(e_d/3.7+2.51/Re/f**0.5)\n",
    "    ffact = scipy.optimize.newton(eqf,cole_turb(e_d))\n",
    "    return ffact"
   ]
  },
  {
   "cell_type": "code",
   "execution_count": 15,
   "metadata": {},
   "outputs": [
    {
     "name": "stdout",
     "output_type": "stream",
     "text": [
      "v_c= 4.0112  m/s\n",
      "Q_c= 0.0087  m3/s\n",
      "v_d= 2.5330  m/s\n",
      "Q_d= 0.0055  m3/s\n"
     ]
    },
    {
     "ename": "NameError",
     "evalue": "name 'hlmd' is not defined",
     "output_type": "error",
     "traceback": [
      "\u001b[1;31m---------------------------------------------------------------------------\u001b[0m",
      "\u001b[1;31mNameError\u001b[0m                                 Traceback (most recent call last)",
      "\u001b[1;32m<ipython-input-15-be6e25cc4d65>\u001b[0m in \u001b[0;36m<module>\u001b[1;34m\u001b[0m\n\u001b[0;32m     59\u001b[0m \u001b[0mprint\u001b[0m\u001b[1;33m(\u001b[0m\u001b[1;34m'Q_d='\u001b[0m\u001b[1;33m,\u001b[0m\u001b[1;34m'%6.4f'\u001b[0m\u001b[1;33m%\u001b[0m\u001b[1;33m(\u001b[0m\u001b[0mv_pd\u001b[0m\u001b[1;33m*\u001b[0m\u001b[0mnp\u001b[0m\u001b[1;33m.\u001b[0m\u001b[0mpi\u001b[0m\u001b[1;33m*\u001b[0m\u001b[0mDC\u001b[0m\u001b[1;33m**\u001b[0m\u001b[1;36m2\u001b[0m\u001b[1;33m/\u001b[0m\u001b[1;36m4\u001b[0m\u001b[1;33m)\u001b[0m\u001b[1;33m,\u001b[0m\u001b[1;34m' m3/s'\u001b[0m\u001b[1;33m)\u001b[0m\u001b[1;33m\u001b[0m\u001b[1;33m\u001b[0m\u001b[0m\n\u001b[0;32m     60\u001b[0m \u001b[1;33m\u001b[0m\u001b[0m\n\u001b[1;32m---> 61\u001b[1;33m \u001b[0mprint\u001b[0m\u001b[1;33m(\u001b[0m\u001b[0mhlmd\u001b[0m\u001b[1;33m)\u001b[0m\u001b[1;33m\u001b[0m\u001b[1;33m\u001b[0m\u001b[0m\n\u001b[0m\u001b[0;32m     62\u001b[0m \u001b[1;33m\u001b[0m\u001b[0m\n",
      "\u001b[1;31mNameError\u001b[0m: name 'hlmd' is not defined"
     ]
    }
   ],
   "source": [
    "rho = 10**3 # kg/m3\n",
    "mu = 1.38*10**-3 # Pa.s (agua 10C)\n",
    "DA = 102.3 * 10**-3 # m\n",
    "DC = 52.5*10**-3 #m\n",
    "DD = DC\n",
    "e = 4.6*10**-5 # m\n",
    "e_DA = e/DA\n",
    "e_DC = e/DC\n",
    "g=9.81 # m/s2\n",
    "\n",
    "QA = 850*10**-3/60 # m3 /s\n",
    "v_a = QA/(np.pi*DA**2/4)\n",
    "LC = 30 #m\n",
    "LD = 60 #m\n",
    "\n",
    "def eo(v_vect):\n",
    "    v_c = v_vect[0]\n",
    "    v_d = v_vect[1]\n",
    "    \n",
    "    Re_c = rho*v_c*DC/mu\n",
    "    Re_d = rho*v_d*DD/mu\n",
    "    \n",
    "    # perdidas mayores ruta C\n",
    "    fc  = coleb(Re_c,e_DC)\n",
    "    hlc = fc*LC/DC*v_c**2/2/g\n",
    "\n",
    "    # perdidas mayores ruta D\n",
    "    fd  = coleb(Re_d,e_DC)\n",
    "    hld = fd*LD/DD*v_d**2/2/g\n",
    "    \n",
    "    # perdidas menores ruta C\n",
    "    fta = cole_turb(e_DA)\n",
    "    ftc = cole_turb(e_DC)\n",
    "    k1c = fta*20\n",
    "    k2c = ftc*20\n",
    "    hlmc = v_a**2/2/g*k1c+v_c**2/2/g*k2c\n",
    "    \n",
    "    #perdidas menores ruta D\n",
    "    ftd = ftc\n",
    "    k1d = fta*60\n",
    "    k2d = ftd*30\n",
    "    k3d = ftd*150\n",
    "    k4d = k2d\n",
    "    k5d = k2d\n",
    "    k6d = ftd*60\n",
    "    \n",
    "    hlmd = v_a**2/2/g*k1d+v_d**2/2/g*(k2d+k3d+k4d+k5d+k6d)\n",
    "    \n",
    "    #ecuaciones objectivo\n",
    "    \n",
    "    eo1 = QA - np.pi*DC**2/4*(v_c+v_d)\n",
    "    eo2 = hlmc+hlc - hlmd-hld\n",
    "    return [eo1,eo2]\n",
    "\n",
    "[v_pc,v_pd]=scipy.optimize.fsolve(eo,[5,5])\n",
    "print('v_c=','%6.4f'%v_pc,' m/s')\n",
    "print('Q_c=','%6.4f'%(v_pc*np.pi*DD**2/4),' m3/s')\n",
    "print('v_d=','%6.4f'%v_pd,' m/s')\n",
    "print('Q_d=','%6.4f'%(v_pd*np.pi*DC**2/4),' m3/s')\n"
   ]
  },
  {
   "cell_type": "code",
   "execution_count": 22,
   "metadata": {},
   "outputs": [
    {
     "name": "stdout",
     "output_type": "stream",
     "text": [
      "p_A-p_B =   99.8 kPa\n"
     ]
    }
   ],
   "source": [
    "v_c = v_pc\n",
    "\n",
    "Re_c = rho*v_c*DC/mu\n",
    "\n",
    "# perdidas mayores ruta C\n",
    "fc  = coleb(Re_c,e_DC)\n",
    "hlc = fc*LC/DC*v_c**2/2/g\n",
    "# perdidas menores ruta C\n",
    "fta = cole_turb(e_DA)\n",
    "ftc = cole_turb(e_DC)\n",
    "k1c = fta*20\n",
    "k2c = ftc*20\n",
    "hlmc = v_a**2/2/g*k1c+v_c**2/2/g*k2c\n",
    "p2_p1 = rho*g*(hlc+hlmc)\n",
    "print('p_A-p_B =','%6.1f'%(p2_p1/1000),'kPa')"
   ]
  },
  {
   "cell_type": "code",
   "execution_count": null,
   "metadata": {},
   "outputs": [],
   "source": []
  }
 ],
 "metadata": {
  "kernelspec": {
   "display_name": "Python 3",
   "language": "python",
   "name": "python3"
  },
  "language_info": {
   "codemirror_mode": {
    "name": "ipython",
    "version": 3
   },
   "file_extension": ".py",
   "mimetype": "text/x-python",
   "name": "python",
   "nbconvert_exporter": "python",
   "pygments_lexer": "ipython3",
   "version": "3.7.6"
  }
 },
 "nbformat": 4,
 "nbformat_minor": 4
}
