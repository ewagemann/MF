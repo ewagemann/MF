{
 "cells": [
  {
   "cell_type": "code",
   "execution_count": 1,
   "metadata": {},
   "outputs": [],
   "source": [
    "import numpy as np\n",
    "import scipy.optimize\n",
    "\n",
    "def cole_turb(e_d):\n",
    "    return (-2*np.log10(e_d/3.7))**-2\n",
    "\n",
    "def coleb(Re,e_d):\n",
    "    eqf = lambda f : f**-0.5+2*np.log10(e_d/3.7+2.51/Re/f**0.5)\n",
    "    ffact = scipy.optimize.newton(eqf,cole_turb(e_d))\n",
    "    return ffact\n",
    "\n",
    "ft2m = 0.3048\n",
    "in2m = 0.0254"
   ]
  },
  {
   "cell_type": "code",
   "execution_count": 13,
   "metadata": {},
   "outputs": [
    {
     "name": "stdout",
     "output_type": "stream",
     "text": [
      "v=   1.65 m/s\n",
      "Q= 8.4e-04 m3/s\n"
     ]
    },
    {
     "name": "stderr",
     "output_type": "stream",
     "text": [
      "/home/enrique/anaconda3/lib/python3.7/site-packages/ipykernel_launcher.py:5: RuntimeWarning: divide by zero encountered in log10\n",
      "  \"\"\"\n",
      "/home/enrique/anaconda3/lib/python3.7/site-packages/ipykernel_launcher.py:8: RuntimeWarning: divide by zero encountered in double_scalars\n",
      "  \n"
     ]
    }
   ],
   "source": [
    "rho = 10**3 # mk/m3\n",
    "mu = 10**-4 # Pa.s\n",
    "g = 9.81 # m/s2\n",
    "gamma = rho*g\n",
    "SGhg = 13.54\n",
    "\n",
    "Lh = 10*ft2m #m \n",
    "theta = np.pi/6.0\n",
    "z2 = np.tan(theta)*Lh\n",
    "z1 = 0\n",
    "ha = 7 * in2m # m\n",
    "p2_p1_gamma = ha - ha*SGhg - (z2-z1)\n",
    "\n",
    "L = Lh/np.cos(theta)\n",
    "D = 1*in2m\n",
    "e = 0\n",
    "e_d = e/D\n",
    "def eo(v):\n",
    "    Re = v*rho*D/mu\n",
    "    hl = coleb(Re,e_d)*L/D*v**2/2/g\n",
    "    hlm = 16*v**2/2/g\n",
    "    return p2_p1_gamma+z2-z1+hl+hlm\n",
    "v_p=scipy.optimize.newton(eo,5)\n",
    "print('v=','%6.2f'%v_p,'m/s')\n",
    "print('Q=','%6.1e'%(v_p*D**2*np.pi/4),'m3/s')\n"
   ]
  },
  {
   "cell_type": "code",
   "execution_count": null,
   "metadata": {},
   "outputs": [],
   "source": []
  },
  {
   "cell_type": "code",
   "execution_count": null,
   "metadata": {},
   "outputs": [],
   "source": []
  }
 ],
 "metadata": {
  "kernelspec": {
   "display_name": "Python 3",
   "language": "python",
   "name": "python3"
  },
  "language_info": {
   "codemirror_mode": {
    "name": "ipython",
    "version": 3
   },
   "file_extension": ".py",
   "mimetype": "text/x-python",
   "name": "python",
   "nbconvert_exporter": "python",
   "pygments_lexer": "ipython3",
   "version": "3.7.6"
  }
 },
 "nbformat": 4,
 "nbformat_minor": 4
}
