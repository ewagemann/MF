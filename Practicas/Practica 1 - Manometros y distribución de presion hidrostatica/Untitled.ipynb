{
 "cells": [
  {
   "cell_type": "markdown",
   "id": "625592e0",
   "metadata": {},
   "source": [
    "$p_{1,man} = \\gamma_{H_2O}(SG_{Hg}\\cdot h_2-h_1)$"
   ]
  },
  {
   "cell_type": "code",
   "execution_count": 2,
   "id": "46cda414",
   "metadata": {},
   "outputs": [
    {
     "name": "stdout",
     "output_type": "stream",
     "text": [
      "p1 =   3.49 kPa\n"
     ]
    }
   ],
   "source": [
    "gamma_w = 9.81 #kPa/m peso especifico del agua\n",
    "SG_Hg = 13.56 #adim - gravedad especifica del mercurio\n",
    "gamma_Hg = SG_Hg*gamma_w # kPa/m peso especifico del mercurio\n",
    "h2 = 0.1 # m\n",
    "h1 = 1 # m\n",
    "\n",
    "p1 = gamma_w*(SG_Hg*h2-h1)\n",
    "print('p1 = %6.2f kPa'%p1)"
   ]
  },
  {
   "cell_type": "code",
   "execution_count": 3,
   "id": "94ff37d3",
   "metadata": {},
   "outputs": [
    {
     "name": "stdout",
     "output_type": "stream",
     "text": [
      "p1 = 123.21 kPa\n"
     ]
    }
   ],
   "source": [
    "gamma_w = 9.81 #kPa/m peso especifico del agua\n",
    "SG_Hg = 13.56 #adim - gravedad especifica del mercurio\n",
    "gamma_Hg = SG_Hg*gamma_w # kPa/m peso especifico del mercurio\n",
    "h2 = 1 # m\n",
    "h1 = 1 # m\n",
    "\n",
    "p1 = gamma_w*(SG_Hg*h2-h1)\n",
    "print('p1 = %6.2f kPa'%p1)"
   ]
  },
  {
   "cell_type": "code",
   "execution_count": null,
   "id": "70de206e",
   "metadata": {},
   "outputs": [],
   "source": []
  }
 ],
 "metadata": {
  "kernelspec": {
   "display_name": "Python 3 (ipykernel)",
   "language": "python",
   "name": "python3"
  },
  "language_info": {
   "codemirror_mode": {
    "name": "ipython",
    "version": 3
   },
   "file_extension": ".py",
   "mimetype": "text/x-python",
   "name": "python",
   "nbconvert_exporter": "python",
   "pygments_lexer": "ipython3",
   "version": "3.8.10"
  }
 },
 "nbformat": 4,
 "nbformat_minor": 5
}
