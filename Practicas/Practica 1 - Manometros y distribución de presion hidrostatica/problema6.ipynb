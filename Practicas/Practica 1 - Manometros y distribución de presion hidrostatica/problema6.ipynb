{
 "cells": [
  {
   "cell_type": "code",
   "execution_count": 6,
   "metadata": {},
   "outputs": [],
   "source": [
    "import numpy as np\n",
    "import scipy.optimize"
   ]
  },
  {
   "cell_type": "code",
   "execution_count": 16,
   "metadata": {},
   "outputs": [
    {
     "name": "stdout",
     "output_type": "stream",
     "text": [
      "abs(delta_h_l) = 27.0 mm\n",
      "abs(delta_h_r) = 54.0 mm\n",
      "l2p = 161.9 mm\n"
     ]
    }
   ],
   "source": [
    "theta=np.pi*30/180\n",
    "gammaw=9.81 # kPa/m\n",
    "SGo=0.9\n",
    "SGhg=13.56\n",
    "\n",
    "h1 = 100*10**-3 # m \n",
    "h2 = np.sin(theta)*50*10**-3 # m\n",
    "h3 = 80*10**-3 # m\n",
    "\n",
    "pa_pb = gammaw*(h3-SGo*h1-SGhg*h2) # kPa\n",
    "\n",
    "pap_pb = pa_pb-10 # kPa\n",
    "\n",
    "def eo(x):\n",
    "    return pap_pb-gammaw*(-SGo*(h1-x)-SGhg*(h2+x+x/np.sin(theta))+h3+x/np.sin(theta))\n",
    "delta_h_l=scipy.optimize.newton(eo,0.001)*10**3 #mm\n",
    "delta_h_r=delta_h_l/np.sin(theta)\n",
    "print('abs(delta_h_l) =','%4.1f'%delta_h_l,'mm')\n",
    "print('abs(delta_h_r) =','%4.1f'%delta_h_r,'mm')\n",
    "l2=(h2+delta_h_l+delta_h_r)/np.sin(theta)\n",
    "print('l2p =','%4.1f'%l2,'mm')"
   ]
  },
  {
   "cell_type": "code",
   "execution_count": null,
   "metadata": {},
   "outputs": [],
   "source": []
  }
 ],
 "metadata": {
  "kernelspec": {
   "display_name": "Python 3",
   "language": "python",
   "name": "python3"
  },
  "language_info": {
   "codemirror_mode": {
    "name": "ipython",
    "version": 3
   },
   "file_extension": ".py",
   "mimetype": "text/x-python",
   "name": "python",
   "nbconvert_exporter": "python",
   "pygments_lexer": "ipython3",
   "version": "3.8.5"
  }
 },
 "nbformat": 4,
 "nbformat_minor": 4
}
